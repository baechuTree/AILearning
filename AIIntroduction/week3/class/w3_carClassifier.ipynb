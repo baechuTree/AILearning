{
 "cells": [
  {
   "cell_type": "markdown",
   "metadata": {},
   "source": [
    "### 2주차에 했던 데이터 전처리, 5가지 모델 사용해보기(추가로 confusion matrix까지)"
   ]
  },
  {
   "cell_type": "code",
   "execution_count": 1,
   "metadata": {},
   "outputs": [
    {
     "name": "stdout",
     "output_type": "stream",
     "text": [
      "buying      0\n",
      "maint       0\n",
      "doors       0\n",
      "persons     0\n",
      "lug_boot    0\n",
      "safety      0\n",
      "class       0\n",
      "dtype: int64\n"
     ]
    }
   ],
   "source": [
    "# 1. 결측치 확인\n",
    "\n",
    "import pandas as pd\n",
    "\n",
    "# 데이터 불러오기\n",
    "\n",
    "# 컬럼 이름이 없는 경우는 이렇게 추가해 줄 수 있음\n",
    "# [구매 가격, 유지비, 문 개수, 탑승 가능 인원, 트렁크 크기, 안전도, 평가 결과(분류)]\n",
    "column_names = [\"buying\", \"maint\", \"doors\", \"persons\", \"lug_boot\", \"safety\", \"class\"]\n",
    "df = pd.read_csv(\"../car_evaluation.csv\", names=column_names)\n",
    "\n",
    "# df = pd.read_csv(\"../car_evaluation.csv\", header=None) # 이렇게 할 수도 있음. 이렇게 하면 컬럼명(헤드)이 없다는 뜻. 알아서 1~7로 컬럼명을 넣어 줌\n",
    "\n",
    "# 결측치 확인\n",
    "print(df.isnull().sum()) # null인 칸 개수 반환"
   ]
  },
  {
   "cell_type": "code",
   "execution_count": 2,
   "metadata": {},
   "outputs": [
    {
     "name": "stdout",
     "output_type": "stream",
     "text": [
      "class\n",
      "unacc    1210\n",
      "acc       384\n",
      "good       69\n",
      "vgood      65\n",
      "Name: count, dtype: int64\n"
     ]
    },
    {
     "data": {
      "image/png": "[encoded data removed]",
      "text/plain": [
       "<Figure size 640x480 with 1 Axes>"
      ]
     },
     "metadata": {},
     "output_type": "display_data"
    }
   ],
   "source": [
    "# 2. 레이블 불균형(imbalanced data) 확인\n",
    "\n",
    "print(df['class'].value_counts())\n",
    "\n",
    "import seaborn as sns\n",
    "import matplotlib.pyplot as plt\n",
    "\n",
    "sns.countplot(x=df['class'])\n",
    "plt.title(\"Survival Count\")\n",
    "plt.show()"
   ]
  },
  {
   "cell_type": "code",
   "execution_count": null,
   "metadata": {},
   "outputs": [
    {
     "name": "stdout",
     "output_type": "stream",
     "text": [
      "buying\n",
      "vhigh    432\n",
      "high     432\n",
      "med      432\n",
      "low      432\n",
      "Name: count, dtype: int64\n",
      "maint\n",
      "vhigh    432\n",
      "high     432\n",
      "med      432\n",
      "low      432\n",
      "Name: count, dtype: int64\n",
      "doors\n",
      "2        432\n",
      "3        432\n",
      "4        432\n",
      "5more    432\n",
      "Name: count, dtype: int64\n",
      "persons\n",
      "2       576\n",
      "4       576\n",
      "more    576\n",
      "Name: count, dtype: int64\n"
     ]
    }
   ],
   "source": [
    "# **인코딩 전: 열의 각 값의 개수 확인(이 개수를 알아둬야 인코딩 후 어떤 숫자가 어떤 값을 가리키는지 알 수 있음. but 이 데이터에서는 레이블 빼고 값 개수가 다 같아서 알 수 없음...)\n",
    "print(df['buying'].value_counts())\n",
    "print(df['maint'].value_counts())\n",
    "print(df['doors'].value_counts())\n",
    "print(df['persons'].value_counts())"
   ]
  },
  {
   "cell_type": "code",
   "execution_count": 4,
   "metadata": {},
   "outputs": [
    {
     "name": "stdout",
     "output_type": "stream",
     "text": [
      "lug_boot\n",
      "small    576\n",
      "med      576\n",
      "big      576\n",
      "Name: count, dtype: int64\n",
      "safety\n",
      "low     576\n",
      "med     576\n",
      "high    576\n",
      "Name: count, dtype: int64\n",
      "class\n",
      "unacc    1210\n",
      "acc       384\n",
      "good       69\n",
      "vgood      65\n",
      "Name: count, dtype: int64\n"
     ]
    }
   ],
   "source": [
    "print(df['lug_boot'].value_counts())\n",
    "print(df['safety'].value_counts())\n",
    "print(df['class'].value_counts())"
   ]
  },
  {
   "cell_type": "code",
   "execution_count": 5,
   "metadata": {},
   "outputs": [
    {
     "name": "stdout",
     "output_type": "stream",
     "text": [
      "buying\n",
      "3    432\n",
      "0    432\n",
      "2    432\n",
      "1    432\n",
      "Name: count, dtype: int64\n",
      "maint\n",
      "3    432\n",
      "0    432\n",
      "2    432\n",
      "1    432\n",
      "Name: count, dtype: int64\n",
      "doors\n",
      "0    432\n",
      "1    432\n",
      "2    432\n",
      "3    432\n",
      "Name: count, dtype: int64\n",
      "persons\n",
      "0    576\n",
      "1    576\n",
      "2    576\n",
      "Name: count, dtype: int64\n",
      "lug_boot\n",
      "2    576\n",
      "1    576\n",
      "0    576\n",
      "Name: count, dtype: int64\n",
      "safety\n",
      "1    576\n",
      "2    576\n",
      "0    576\n",
      "Name: count, dtype: int64\n",
      "class\n",
      "2    1210\n",
      "0     384\n",
      "1      69\n",
      "3      65\n",
      "Name: count, dtype: int64\n",
      "   buying  maint  doors  persons  lug_boot  safety  class\n",
      "0       3      3      0        0         2       1      2\n",
      "1       3      3      0        0         2       2      2\n",
      "2       3      3      0        0         2       0      2\n",
      "3       3      3      0        0         1       1      2\n",
      "4       3      3      0        0         1       2      2\n"
     ]
    }
   ],
   "source": [
    "# 3. 인코딩(숫자가 아닌 데이터를 숫자로 변환)\n",
    "# 인코딩을 하는 이유: 일반적인 AI 모델은 숫자만 다룰 수 있기 때문!\n",
    "\n",
    "from sklearn.preprocessing import LabelEncoder\n",
    "\n",
    "encoder = LabelEncoder()\n",
    "df['buying'] = encoder.fit_transform(df['buying'])\n",
    "df['maint'] = encoder.fit_transform(df['maint'])\n",
    "df['doors'] = encoder.fit_transform(df['doors'])\n",
    "df['persons'] = encoder.fit_transform(df['persons'])\n",
    "df['lug_boot'] = encoder.fit_transform(df['lug_boot'])\n",
    "df['safety'] = encoder.fit_transform(df['safety'])\n",
    "df['class'] = encoder.fit_transform(df['class'])\n",
    "\n",
    "\n",
    "# 변환 후 확인\n",
    "print(df['buying'].value_counts())\n",
    "print(df['maint'].value_counts())\n",
    "print(df['doors'].value_counts())\n",
    "print(df['persons'].value_counts())\n",
    "print(df['lug_boot'].value_counts())\n",
    "print(df['safety'].value_counts())\n",
    "print(df['class'].value_counts())\n",
    "print(df.head()) # 표 윗부분 확인"
   ]
  },
  {
   "cell_type": "code",
   "execution_count": null,
   "metadata": {},
   "outputs": [
    {
     "name": "stdout",
     "output_type": "stream",
     "text": [
      "DT 테스트 정확도: 0.74\n",
      "RF 테스트 정확도: 0.75\n",
      "SVM 테스트 정확도: 0.98\n",
      "LR 테스트 정확도: 0.66\n",
      "KNN 테스트 정확도: 0.93\n",
      "\n",
      "DT 교차 검증 평균 정확도: 0.71\n",
      "RF 교차 검증 평균 정확도: 0.75\n",
      "SVM 교차 검증 평균 정확도: 0.88\n",
      "LR 교차 검증 평균 정확도: 0.65\n",
      "KNN 교차 검증 평균 정확도: 0.78\n"
     ]
    }
   ],
   "source": [
    "# 4. 만든 데이터로 모델 학습\n",
    "\n",
    "from sklearn.model_selection import train_test_split  # 데이터 분할 함수\n",
    "from sklearn.metrics import accuracy_score  # 정확도 평가 함수\n",
    "from sklearn.preprocessing import StandardScaler  # 데이터 표준화 함수\n",
    "\n",
    "# [데이터 제작]\n",
    "X = df.drop(columns=[\"class\"])\n",
    "y = df[\"class\"]\n",
    "\n",
    "scaler = StandardScaler()\n",
    "X = scaler.fit_transform(X)\n",
    "\n",
    "X_train, X_test, y_train, y_test = train_test_split(X, y, test_size=0.2, random_state=42)  # test_size: 전체 데이터 중 test에 할당할 비율\n",
    "\n",
    "\n",
    "# [DT 모델]\n",
    "from sklearn.tree import DecisionTreeClassifier\n",
    "\n",
    "# 모델 생성, 훈련\n",
    "dt_model = DecisionTreeClassifier(min_samples_split=5, min_samples_leaf=3, max_depth=3, random_state=42)\n",
    "    # **max_depth=3: 트리의 최대 깊이를 3으로 제한. 깊이가 줄어든 만큼 조건을 덜 체크하므로 정확도 하락 but 과적합 감소\n",
    "    # **min_samples_spilt=5: 한 노드에서 샘플이 최소 5개여야만 다음 노드로 넘어감(= 샘플을 나눔). 정확도 하락 but 과적합 감소\n",
    "    # **min_samples_leaf=2: 최하단 노드(잎)는 샘플이 최소 2개 있어야 함. 샘플을 너무 작게 나누는 걸 방지해 정확도 하락 but 과적합 감소\n",
    "dt_model.fit(X_train, y_train)\n",
    "\n",
    "# 모델 예측, 평가\n",
    "y_pred = dt_model.predict(X_test)\n",
    "accuracy = accuracy_score(y_test, y_pred)\n",
    "print(f\"DT 테스트 정확도: {accuracy:.2f}\")\n",
    "\n",
    "\n",
    "# [RF 모델]\n",
    "from sklearn.ensemble import RandomForestClassifier\n",
    "\n",
    "rf_model = RandomForestClassifier(n_estimators=10, max_depth=4, random_state=42)\n",
    "    # n_estimators=100: DT 모델을 100개 사용. 많으면 성능 향상 but 계산량 증가\n",
    "rf_model.fit(X_train, y_train)\n",
    "\n",
    "y_pred = rf_model.predict(X_test)\n",
    "accuracy = accuracy_score(y_test, y_pred)\n",
    "print(f\"RF 테스트 정확도: {accuracy:.2f}\")\n",
    "\n",
    "\n",
    "# [SVM 모델]\n",
    "from sklearn.svm import SVC\n",
    "\n",
    "svm_model = SVC(kernel=\"rbf\", C=10, random_state=42)\n",
    "    # C: 마진. C가 작을수록 마진이 커지고, 마진이 클수록 훈련 데이터에 맞아져 과적합 가능성 증가\n",
    "    # kernel=\"linear\": 커널 종류가 선형. 자료들을 나누는 구분선 형태를 선형/비선형(곡선 등) 등에서 하나를 선택하는 것. rbf, poly, sigmoid 등 다양함.\n",
    "\n",
    "svm_model.fit(X_train, y_train)\n",
    "\n",
    "y_pred = svm_model.predict(X_test)\n",
    "\n",
    "accuracy = accuracy_score(y_test, y_pred)\n",
    "print(f\"SVM 테스트 정확도: {accuracy:.2f}\")\n",
    "\n",
    "\n",
    "# [LR 모델]\n",
    "from sklearn.linear_model import LogisticRegression\n",
    "\n",
    "lr_model = LogisticRegression(solver='lbfgs')\n",
    "    # multi_class='ovr': 다중 분류 (One-vs-Rest)\n",
    "    # 현재 multi_class='ovr'을 넣으면 경고가 발생해서 제거해 둠\n",
    "lr_model.fit(X_train, y_train)\n",
    "\n",
    "y_pred = lr_model.predict(X_test)\n",
    "\n",
    "accuracy = accuracy_score(y_test, y_pred)\n",
    "print(f\"LR 테스트 정확도: {accuracy:.2f}\")\n",
    "\n",
    "\n",
    "# [KNN 모델]\n",
    "from sklearn.neighbors import KNeighborsClassifier\n",
    "\n",
    "knn_model = KNeighborsClassifier(n_neighbors=5)  # k=5로 설정\n",
    "knn_model.fit(X_train, y_train)\n",
    "\n",
    "y_pred = knn_model.predict(X_test)\n",
    "accuracy = accuracy_score(y_test, y_pred)\n",
    "print(f\"KNN 테스트 정확도: {accuracy:.2f}\")\n",
    "\n",
    "\n",
    "print()\n",
    "\n",
    "\n",
    "# [외전. 교차 검증]\n",
    "from sklearn.model_selection import cross_val_score\n",
    "dt_scores = cross_val_score(dt_model, X, y, cv=5)  # **K 폴드 교차검증: test 데이터가 아닌 전체 데이터를 cv개의 폴드로 나눠 각 폴드마다 테스트\n",
    "print(f\"DT 교차 검증 평균 정확도: {dt_scores.mean():.2f}\")\n",
    "\n",
    "rf_scores = cross_val_score(rf_model, X, y, cv=5)  # **K 폴드 교차검증: test 데이터가 아닌 전체 데이터를 cv개의 폴드로 나눠 각 폴드마다 테스트\n",
    "print(f\"RF 교차 검증 평균 정확도: {rf_scores.mean():.2f}\")\n",
    "\n",
    "svm_scores = cross_val_score(svm_model, X, y, cv=5)  # **K 폴드 교차검증: test 데이터가 아닌 전체 데이터를 cv개의 폴드로 나눠 각 폴드마다 테스트\n",
    "print(f\"SVM 교차 검증 평균 정확도: {svm_scores.mean():.2f}\")\n",
    "\n",
    "lr_scores = cross_val_score(lr_model, X, y, cv=5)  # **K 폴드 교차검증: test 데이터가 아닌 전체 데이터를 cv개의 폴드로 나눠 각 폴드마다 테스트\n",
    "print(f\"LR 교차 검증 평균 정확도: {lr_scores.mean():.2f}\")\n",
    "\n",
    "knn_scores = cross_val_score(knn_model, X, y, cv=5)  # **K 폴드 교차검증: test 데이터가 아닌 전체 데이터를 cv개의 폴드로 나눠 각 폴드마다 테스트\n",
    "print(f\"KNN 교차 검증 평균 정확도: {knn_scores.mean():.2f}\")\n"
   ]
  },
  {
   "cell_type": "markdown",
   "metadata": {},
   "source": [
    "#### 학습 결과로 Confusion Matrix 만들기\n",
    "자세한 설명은 w2_titanicDT.ipynb에서\n"
   ]
  },
  {
   "cell_type": "code",
   "execution_count": 17,
   "metadata": {},
   "outputs": [
    {
     "data": {
      "image/png": "[encoded data removed]",
      "text/plain": [
       "<Figure size 600x400 with 2 Axes>"
      ]
     },
     "metadata": {},
     "output_type": "display_data"
    },
    {
     "name": "stdout",
     "output_type": "stream",
     "text": [
      "              precision    recall  f1-score   support\n",
      "\n",
      "           0       0.89      0.84      0.86        83\n",
      "           1       1.00      0.55      0.71        11\n",
      "           2       0.95      1.00      0.97       235\n",
      "           3       0.87      0.76      0.81        17\n",
      "\n",
      "    accuracy                           0.93       346\n",
      "   macro avg       0.93      0.79      0.84       346\n",
      "weighted avg       0.93      0.93      0.93       346\n",
      "\n"
     ]
    }
   ],
   "source": [
    "# 7. Confusion Matrix 만들기(여기선 마지막으로 입력된, knn 모델이 반환한 y_pred 값을 사용한 예)\n",
    "\n",
    "from sklearn.metrics import confusion_matrix, classification_report\n",
    "import seaborn as sns\n",
    "import matplotlib.pyplot as plt\n",
    "\n",
    "# 예측값과 실제값 비교\n",
    "cm = confusion_matrix(y_test, y_pred)\n",
    "\n",
    "# Confusion Matrix 시각화\n",
    "plt.figure(figsize=(6, 4))\n",
    "sns.heatmap(cm, annot=True, fmt='d', cmap='Blues', xticklabels=[\"Pred 0\", \"Pred 1\", \"Pred 2\", \"Pred 3\"], yticklabels=[\"Actual 0\", \"Actual 1\", \"Actual 2\", \"Actual 3\"])\n",
    "plt.xlabel(\"Predicted Label\")\n",
    "plt.ylabel(\"Actual Label\")\n",
    "plt.title(\"Confusion Matrix\")\n",
    "plt.show()\n",
    "\n",
    "# 정밀도, 재현율, F1-score 출력\n",
    "print(classification_report(y_test, y_pred))"
   ]
  }
 ],
 "metadata": {
  "kernelspec": {
   "display_name": "2025AI",
   "language": "python",
   "name": "python3"
  },
  "language_info": {
   "codemirror_mode": {
    "name": "ipython",
    "version": 3
   },
   "file_extension": ".py",
   "mimetype": "text/x-python",
   "name": "python",
   "nbconvert_exporter": "python",
   "pygments_lexer": "ipython3",
   "version": "3.12.8"
  }
 },
 "nbformat": 4,
 "nbformat_minor": 2
}
