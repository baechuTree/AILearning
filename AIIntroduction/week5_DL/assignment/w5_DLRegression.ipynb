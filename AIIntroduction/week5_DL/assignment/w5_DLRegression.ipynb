{
 "cells": [
  {
   "cell_type": "markdown",
   "metadata": {},
   "source": [
    "### 딥러닝 모델로 회귀하기: 와인 데이터"
   ]
  },
  {
   "cell_type": "markdown",
   "metadata": {},
   "source": [
    "#### 데이터 가져오기, 머신러닝 복습"
   ]
  },
  {
   "cell_type": "code",
   "execution_count": 65,
   "metadata": {},
   "outputs": [
    {
     "name": "stdout",
     "output_type": "stream",
     "text": [
      "           id             date     price  bedrooms  bathrooms  sqft_living  \\\n",
      "0  7129300520  20141013T000000  221900.0         3       1.00         1180   \n",
      "1  6414100192  20141209T000000  538000.0         3       2.25         2570   \n",
      "2  5631500400  20150225T000000  180000.0         2       1.00          770   \n",
      "3  2487200875  20141209T000000  604000.0         4       3.00         1960   \n",
      "4  1954400510  20150218T000000  510000.0         3       2.00         1680   \n",
      "\n",
      "   sqft_lot  floors  waterfront  view  ...  grade  sqft_above  sqft_basement  \\\n",
      "0      5650     1.0           0     0  ...      7        1180              0   \n",
      "1      7242     2.0           0     0  ...      7        2170            400   \n",
      "2     10000     1.0           0     0  ...      6         770              0   \n",
      "3      5000     1.0           0     0  ...      7        1050            910   \n",
      "4      8080     1.0           0     0  ...      8        1680              0   \n",
      "\n",
      "   yr_built  yr_renovated  zipcode      lat     long  sqft_living15  \\\n",
      "0      1955             0    98178  47.5112 -122.257           1340   \n",
      "1      1951          1991    98125  47.7210 -122.319           1690   \n",
      "2      1933             0    98028  47.7379 -122.233           2720   \n",
      "3      1965             0    98136  47.5208 -122.393           1360   \n",
      "4      1987             0    98074  47.6168 -122.045           1800   \n",
      "\n",
      "   sqft_lot15  \n",
      "0        5650  \n",
      "1        7639  \n",
      "2        8062  \n",
      "3        5000  \n",
      "4        7503  \n",
      "\n",
      "[5 rows x 21 columns]\n"
     ]
    }
   ],
   "source": [
    "# 로컬 파일에서 데이터 가져오기\n",
    "\n",
    "import pandas as pd\n",
    "\n",
    "# CSV 파일 읽기\n",
    "df = pd.read_csv(\"../kc_house_data.csv\")\n",
    "\n",
    "print(df.head())  # 데이터 확인"
   ]
  },
  {
   "cell_type": "code",
   "execution_count": 66,
   "metadata": {},
   "outputs": [
    {
     "data": {
      "text/plain": [
       "((21613, 18), (21613,))"
      ]
     },
     "execution_count": 66,
     "metadata": {},
     "output_type": "execute_result"
    }
   ],
   "source": [
    "# 데이터 train, test 나누기\n",
    "\n",
    "from sklearn.model_selection import train_test_split  # 데이터 분할 함수\n",
    "from sklearn.preprocessing import StandardScaler  # 데이터 표준화 함수\n",
    "import numpy as np\n",
    "\n",
    "# [데이터 제작]\n",
    "X = df.drop(columns=[\"id\", \"date\", \"price\"]) # id, date는 노이즈이므로 제거\n",
    "y = df[\"price\"]\n",
    "\n",
    "# [스케일링]\n",
    "scaler = StandardScaler() # 표준화(=정규화) 스케일링\n",
    "X = scaler.fit_transform(X)\n",
    "\n",
    "#y = y.values.reshape(-1, 1)\n",
    "#y = scaler.fit_transform(y)\n",
    "\n",
    "y = np.log1p(df[\"price\"].values) # 로그 변환 스케일링: 레이블 값이 전부 양수일 때 좋음\n",
    "\n",
    "X.shape, y.shape"
   ]
  },
  {
   "cell_type": "markdown",
   "metadata": {},
   "source": [
    "#### 딥러닝 시작"
   ]
  },
  {
   "cell_type": "code",
   "execution_count": 67,
   "metadata": {},
   "outputs": [
    {
     "name": "stdout",
     "output_type": "stream",
     "text": [
      "[12.30998662 13.1956157  12.10071769 13.31133113 13.14216797]\n",
      "[[-0.39873715 -1.44746357 -0.97983502 -0.22832133 -0.915427   -0.08717263\n",
      "  -0.30575946 -0.62918687 -0.55883575 -0.73470764 -0.65868104 -0.54489777\n",
      "  -0.21012839  1.87015159 -0.35257175 -0.30607896 -0.9433552  -0.26071541]\n",
      " [-0.39873715  0.1756067   0.53363434 -0.18988538  0.93650577 -0.08717263\n",
      "  -0.30575946 -0.62918687 -0.55883575  0.46084084  0.2451414  -0.6810785\n",
      "   4.7466776   0.87956753  1.16156823 -0.74634143 -0.43268619 -0.18786773]\n",
      " [-1.47395936 -1.44746357 -1.42625404 -0.12329847 -0.915427   -0.08717263\n",
      "  -0.30575946 -0.62918687 -1.40958711 -1.22983377 -0.65868104 -1.29389179\n",
      "  -0.21012839 -0.9333882   1.28353661 -0.13565477  1.07013975 -0.17237524]\n",
      " [ 0.67648506  1.14944885 -0.13055006 -0.2440144  -0.915427   -0.08717263\n",
      "  -0.30575946  2.44429394 -0.55883575 -0.89169885  1.39751501 -0.20444594\n",
      "  -0.21012839  1.08516045 -0.28328794 -1.271816   -0.91417411 -0.28452184]\n",
      " [-0.39873715 -0.14900736 -0.43542158 -0.16965339 -0.915427   -0.08717263\n",
      "  -0.30575946 -0.62918687  0.29191561 -0.13089528 -0.65868104  0.54454807\n",
      "  -0.21012839 -0.073636    0.40955019  1.19933466 -0.27219022 -0.19284877]]\n"
     ]
    }
   ],
   "source": [
    "# 원-핫 인코딩, 딥러닝 입력을 위해 Numpy로 변환\n",
    "\n",
    "# y = pd.get_dummies(y).values # 원-핫 인코딩 코드. 회귀 문제이고, y가 연속적인 숫자값을 가지고 있기 때문에 one-hot 인코딩 없이 바로 사용해야 함.\n",
    "# y = y.values # Numpy로 변환만\n",
    "print(y[:5])\n",
    "\n",
    "# X = X.values # 딥러닝 입력을 위해 Numpy로 변환(but X는 이미 StandardScaler로 인해 Numpy 배열이 되었기 때문에 변환할 필요 없음)\n",
    "print(X[:5])"
   ]
  },
  {
   "cell_type": "code",
   "execution_count": 72,
   "metadata": {},
   "outputs": [
    {
     "data": {
      "text/plain": [
       "((17290, 18), (17290,), (4323, 18), (4323,))"
      ]
     },
     "execution_count": 72,
     "metadata": {},
     "output_type": "execute_result"
    }
   ],
   "source": [
    "# train, test 분리\n",
    "\n",
    "from sklearn.model_selection import train_test_split\n",
    "\n",
    "X_train,X_test, y_train,y_test = train_test_split(X,y,test_size=0.2,random_state=0)\n",
    "\n",
    "X_train.shape, y_train.shape, X_test.shape, y_test.shape"
   ]
  },
  {
   "cell_type": "markdown",
   "metadata": {},
   "source": [
    "손실함수\n",
    "\n",
    "- Binary Crossentropy\n",
    "\n",
    "이 손실 함수는 이진 분류 문제(binary classification)에 사용됩니다. 여기서 모델은 단 두 개의 클래스 중 하나를 예측해야 합니다. 보통 시그모이드 활성화 함수(sigmoid activation function)를 출력 계층에 사용합니다. 이 함수는 0과 1 사이의 값을 반환하여, 각 클래스에 속할 확률을 나타냅니다.\n",
    "\n",
    "- Categorical Crossentropy\n",
    "\n",
    "다중 클래스 분류 문제(multi-class classification)에 사용됩니다. 모델은 두 개 이상의 클래스 중 하나를 예측해야 합니다 소프트맥스 활성화 함수(softmax activation function)가 일반적으로 사용됩니다. 이 함수는 모든 클래스에 대해 확률 분포를 반환하여, 각 클래스에 속할 확률을 나타냅니다."
   ]
  },
  {
   "cell_type": "code",
   "execution_count": 94,
   "metadata": {},
   "outputs": [
    {
     "data": {
      "text/html": [
       "<pre style=\"white-space:pre;overflow-x:auto;line-height:normal;font-family:Menlo,'DejaVu Sans Mono',consolas,'Courier New',monospace\"><span style=\"font-weight: bold\">Model: \"sequential_16\"</span>\n",
       "</pre>\n"
      ],
      "text/plain": [
       "\u001b[1mModel: \"sequential_16\"\u001b[0m\n"
      ]
     },
     "metadata": {},
     "output_type": "display_data"
    },
    {
     "data": {
      "text/html": [
       "<pre style=\"white-space:pre;overflow-x:auto;line-height:normal;font-family:Menlo,'DejaVu Sans Mono',consolas,'Courier New',monospace\">┏━━━━━━━━━━━━━━━━━━━━━━━━━━━━━━━━━┳━━━━━━━━━━━━━━━━━━━━━━━━┳━━━━━━━━━━━━━━━┓\n",
       "┃<span style=\"font-weight: bold\"> Layer (type)                    </span>┃<span style=\"font-weight: bold\"> Output Shape           </span>┃<span style=\"font-weight: bold\">       Param # </span>┃\n",
       "┡━━━━━━━━━━━━━━━━━━━━━━━━━━━━━━━━━╇━━━━━━━━━━━━━━━━━━━━━━━━╇━━━━━━━━━━━━━━━┩\n",
       "│ dense_72 (<span style=\"color: #0087ff; text-decoration-color: #0087ff\">Dense</span>)                │ (<span style=\"color: #00d7ff; text-decoration-color: #00d7ff\">None</span>, <span style=\"color: #00af00; text-decoration-color: #00af00\">18</span>)             │           <span style=\"color: #00af00; text-decoration-color: #00af00\">342</span> │\n",
       "├─────────────────────────────────┼────────────────────────┼───────────────┤\n",
       "│ dense_73 (<span style=\"color: #0087ff; text-decoration-color: #0087ff\">Dense</span>)                │ (<span style=\"color: #00d7ff; text-decoration-color: #00d7ff\">None</span>, <span style=\"color: #00af00; text-decoration-color: #00af00\">30</span>)             │           <span style=\"color: #00af00; text-decoration-color: #00af00\">570</span> │\n",
       "├─────────────────────────────────┼────────────────────────┼───────────────┤\n",
       "│ dense_74 (<span style=\"color: #0087ff; text-decoration-color: #0087ff\">Dense</span>)                │ (<span style=\"color: #00d7ff; text-decoration-color: #00d7ff\">None</span>, <span style=\"color: #00af00; text-decoration-color: #00af00\">18</span>)             │           <span style=\"color: #00af00; text-decoration-color: #00af00\">558</span> │\n",
       "├─────────────────────────────────┼────────────────────────┼───────────────┤\n",
       "│ dense_75 (<span style=\"color: #0087ff; text-decoration-color: #0087ff\">Dense</span>)                │ (<span style=\"color: #00d7ff; text-decoration-color: #00d7ff\">None</span>, <span style=\"color: #00af00; text-decoration-color: #00af00\">1</span>)              │            <span style=\"color: #00af00; text-decoration-color: #00af00\">19</span> │\n",
       "└─────────────────────────────────┴────────────────────────┴───────────────┘\n",
       "</pre>\n"
      ],
      "text/plain": [
       "┏━━━━━━━━━━━━━━━━━━━━━━━━━━━━━━━━━┳━━━━━━━━━━━━━━━━━━━━━━━━┳━━━━━━━━━━━━━━━┓\n",
       "┃\u001b[1m \u001b[0m\u001b[1mLayer (type)                   \u001b[0m\u001b[1m \u001b[0m┃\u001b[1m \u001b[0m\u001b[1mOutput Shape          \u001b[0m\u001b[1m \u001b[0m┃\u001b[1m \u001b[0m\u001b[1m      Param #\u001b[0m\u001b[1m \u001b[0m┃\n",
       "┡━━━━━━━━━━━━━━━━━━━━━━━━━━━━━━━━━╇━━━━━━━━━━━━━━━━━━━━━━━━╇━━━━━━━━━━━━━━━┩\n",
       "│ dense_72 (\u001b[38;5;33mDense\u001b[0m)                │ (\u001b[38;5;45mNone\u001b[0m, \u001b[38;5;34m18\u001b[0m)             │           \u001b[38;5;34m342\u001b[0m │\n",
       "├─────────────────────────────────┼────────────────────────┼───────────────┤\n",
       "│ dense_73 (\u001b[38;5;33mDense\u001b[0m)                │ (\u001b[38;5;45mNone\u001b[0m, \u001b[38;5;34m30\u001b[0m)             │           \u001b[38;5;34m570\u001b[0m │\n",
       "├─────────────────────────────────┼────────────────────────┼───────────────┤\n",
       "│ dense_74 (\u001b[38;5;33mDense\u001b[0m)                │ (\u001b[38;5;45mNone\u001b[0m, \u001b[38;5;34m18\u001b[0m)             │           \u001b[38;5;34m558\u001b[0m │\n",
       "├─────────────────────────────────┼────────────────────────┼───────────────┤\n",
       "│ dense_75 (\u001b[38;5;33mDense\u001b[0m)                │ (\u001b[38;5;45mNone\u001b[0m, \u001b[38;5;34m1\u001b[0m)              │            \u001b[38;5;34m19\u001b[0m │\n",
       "└─────────────────────────────────┴────────────────────────┴───────────────┘\n"
      ]
     },
     "metadata": {},
     "output_type": "display_data"
    },
    {
     "data": {
      "text/html": [
       "<pre style=\"white-space:pre;overflow-x:auto;line-height:normal;font-family:Menlo,'DejaVu Sans Mono',consolas,'Courier New',monospace\"><span style=\"font-weight: bold\"> Total params: </span><span style=\"color: #00af00; text-decoration-color: #00af00\">1,489</span> (5.82 KB)\n",
       "</pre>\n"
      ],
      "text/plain": [
       "\u001b[1m Total params: \u001b[0m\u001b[38;5;34m1,489\u001b[0m (5.82 KB)\n"
      ]
     },
     "metadata": {},
     "output_type": "display_data"
    },
    {
     "data": {
      "text/html": [
       "<pre style=\"white-space:pre;overflow-x:auto;line-height:normal;font-family:Menlo,'DejaVu Sans Mono',consolas,'Courier New',monospace\"><span style=\"font-weight: bold\"> Trainable params: </span><span style=\"color: #00af00; text-decoration-color: #00af00\">1,489</span> (5.82 KB)\n",
       "</pre>\n"
      ],
      "text/plain": [
       "\u001b[1m Trainable params: \u001b[0m\u001b[38;5;34m1,489\u001b[0m (5.82 KB)\n"
      ]
     },
     "metadata": {},
     "output_type": "display_data"
    },
    {
     "data": {
      "text/html": [
       "<pre style=\"white-space:pre;overflow-x:auto;line-height:normal;font-family:Menlo,'DejaVu Sans Mono',consolas,'Courier New',monospace\"><span style=\"font-weight: bold\"> Non-trainable params: </span><span style=\"color: #00af00; text-decoration-color: #00af00\">0</span> (0.00 B)\n",
       "</pre>\n"
      ],
      "text/plain": [
       "\u001b[1m Non-trainable params: \u001b[0m\u001b[38;5;34m0\u001b[0m (0.00 B)\n"
      ]
     },
     "metadata": {},
     "output_type": "display_data"
    }
   ],
   "source": [
    "#Defining the model \n",
    "\n",
    "from keras.models import Sequential\n",
    "from keras.layers import Dense\n",
    "from keras.optimizers import SGD,Adam\n",
    "\n",
    "\n",
    "model = Sequential()\n",
    "\n",
    "model.add(Dense(18,input_shape=(18,),activation='relu'))\n",
    "model.add(Dense(30,activation='relu'))\n",
    "model.add(Dense(18,activation='relu'))\n",
    "model.add(Dense(1))\n",
    "\n",
    "model.compile(optimizer = 'rmsprop', loss = 'mse', metrics = ['mse', 'mae'])\n",
    "    # mse: 평균 제곱 오차. 오차의 평균의 제곱값.\n",
    "    # mae: 평균 절대 오차. 오차의 평균의 절댓값.\n",
    "\n",
    "model.summary()"
   ]
  },
  {
   "cell_type": "code",
   "execution_count": null,
   "metadata": {},
   "outputs": [
    {
     "name": "stdout",
     "output_type": "stream",
     "text": [
      "Epoch 1/15\n",
      "\u001b[1m541/541\u001b[0m \u001b[32m━━━━━━━━━━━━━━━━━━━━\u001b[0m\u001b[37m\u001b[0m \u001b[1m3s\u001b[0m 3ms/step - loss: 49.1466 - mae: 5.3358 - mse: 49.1466 - val_loss: 1.1786 - val_mae: 0.7997 - val_mse: 1.1786\n",
      "Epoch 2/15\n",
      "\u001b[1m541/541\u001b[0m \u001b[32m━━━━━━━━━━━━━━━━━━━━\u001b[0m\u001b[37m\u001b[0m \u001b[1m2s\u001b[0m 3ms/step - loss: 0.8391 - mae: 0.6717 - mse: 0.8391 - val_loss: 0.2663 - val_mae: 0.3749 - val_mse: 0.2663\n",
      "Epoch 3/15\n",
      "\u001b[1m541/541\u001b[0m \u001b[32m━━━━━━━━━━━━━━━━━━━━\u001b[0m\u001b[37m\u001b[0m \u001b[1m3s\u001b[0m 3ms/step - loss: 0.2477 - mae: 0.3433 - mse: 0.2477 - val_loss: 0.1317 - val_mae: 0.2582 - val_mse: 0.1317\n",
      "Epoch 4/15\n",
      "\u001b[1m541/541\u001b[0m \u001b[32m━━━━━━━━━━━━━━━━━━━━\u001b[0m\u001b[37m\u001b[0m \u001b[1m2s\u001b[0m 3ms/step - loss: 0.1462 - mae: 0.2668 - mse: 0.1462 - val_loss: 0.1009 - val_mae: 0.2249 - val_mse: 0.1009\n",
      "Epoch 5/15\n",
      "\u001b[1m541/541\u001b[0m \u001b[32m━━━━━━━━━━━━━━━━━━━━\u001b[0m\u001b[37m\u001b[0m \u001b[1m2s\u001b[0m 3ms/step - loss: 0.1100 - mae: 0.2368 - mse: 0.1100 - val_loss: 0.0785 - val_mae: 0.1976 - val_mse: 0.0785\n",
      "Epoch 6/15\n",
      "\u001b[1m541/541\u001b[0m \u001b[32m━━━━━━━━━━━━━━━━━━━━\u001b[0m\u001b[37m\u001b[0m \u001b[1m2s\u001b[0m 3ms/step - loss: 0.0850 - mae: 0.2198 - mse: 0.0850 - val_loss: 0.0642 - val_mae: 0.1879 - val_mse: 0.0642\n",
      "Epoch 7/15\n",
      "\u001b[1m541/541\u001b[0m \u001b[32m━━━━━━━━━━━━━━━━━━━━\u001b[0m\u001b[37m\u001b[0m \u001b[1m2s\u001b[0m 4ms/step - loss: 0.0745 - mae: 0.2052 - mse: 0.0745 - val_loss: 0.0630 - val_mae: 0.1870 - val_mse: 0.0630\n",
      "Epoch 8/15\n",
      "\u001b[1m541/541\u001b[0m \u001b[32m━━━━━━━━━━━━━━━━━━━━\u001b[0m\u001b[37m\u001b[0m \u001b[1m2s\u001b[0m 4ms/step - loss: 0.0698 - mae: 0.1987 - mse: 0.0698 - val_loss: 0.0461 - val_mae: 0.1568 - val_mse: 0.0461\n",
      "Epoch 9/15\n",
      "\u001b[1m541/541\u001b[0m \u001b[32m━━━━━━━━━━━━━━━━━━━━\u001b[0m\u001b[37m\u001b[0m \u001b[1m3s\u001b[0m 5ms/step - loss: 0.0650 - mae: 0.1943 - mse: 0.0650 - val_loss: 0.0698 - val_mae: 0.2104 - val_mse: 0.0698\n",
      "Epoch 10/15\n",
      "\u001b[1m541/541\u001b[0m \u001b[32m━━━━━━━━━━━━━━━━━━━━\u001b[0m\u001b[37m\u001b[0m \u001b[1m2s\u001b[0m 4ms/step - loss: 0.0595 - mae: 0.1858 - mse: 0.0595 - val_loss: 0.0954 - val_mae: 0.2517 - val_mse: 0.0954\n",
      "Epoch 11/15\n",
      "\u001b[1m541/541\u001b[0m \u001b[32m━━━━━━━━━━━━━━━━━━━━\u001b[0m\u001b[37m\u001b[0m \u001b[1m2s\u001b[0m 4ms/step - loss: 0.0605 - mae: 0.1878 - mse: 0.0605 - val_loss: 0.0749 - val_mae: 0.2223 - val_mse: 0.0749\n",
      "Epoch 12/15\n",
      "\u001b[1m541/541\u001b[0m \u001b[32m━━━━━━━━━━━━━━━━━━━━\u001b[0m\u001b[37m\u001b[0m \u001b[1m2s\u001b[0m 4ms/step - loss: 0.0560 - mae: 0.1814 - mse: 0.0560 - val_loss: 0.0451 - val_mae: 0.1551 - val_mse: 0.0451\n",
      "Epoch 13/15\n",
      "\u001b[1m541/541\u001b[0m \u001b[32m━━━━━━━━━━━━━━━━━━━━\u001b[0m\u001b[37m\u001b[0m \u001b[1m3s\u001b[0m 5ms/step - loss: 0.0539 - mae: 0.1778 - mse: 0.0539 - val_loss: 0.0422 - val_mae: 0.1482 - val_mse: 0.0422\n",
      "Epoch 14/15\n",
      "\u001b[1m541/541\u001b[0m \u001b[32m━━━━━━━━━━━━━━━━━━━━\u001b[0m\u001b[37m\u001b[0m \u001b[1m2s\u001b[0m 4ms/step - loss: 0.0529 - mae: 0.1761 - mse: 0.0529 - val_loss: 0.0425 - val_mae: 0.1469 - val_mse: 0.0425\n",
      "Epoch 15/15\n",
      "\u001b[1m541/541\u001b[0m \u001b[32m━━━━━━━━━━━━━━━━━━━━\u001b[0m\u001b[37m\u001b[0m \u001b[1m2s\u001b[0m 4ms/step - loss: 0.0508 - mae: 0.1721 - mse: 0.0508 - val_loss: 0.0711 - val_mae: 0.2133 - val_mse: 0.0711\n",
      "\u001b[1m136/136\u001b[0m \u001b[32m━━━━━━━━━━━━━━━━━━━━\u001b[0m\u001b[37m\u001b[0m \u001b[1m0s\u001b[0m 2ms/step\n",
      "스케일링 되돌린 후 mae = 127137.53989200208\n"
     ]
    }
   ],
   "source": [
    "N_EPOCHS = 15\n",
    "\n",
    "history=model.fit(x=X_train, y=y_train, epochs=N_EPOCHS, batch_size=32,validation_data= (X_test,y_test))\n",
    "y_pred = model.predict(X_test)\n",
    "\n",
    "y_pred_unscaled = np.expm1(y_pred) # 스케일링한 값 되돌리기\n",
    "y_test_unscaled = np.expm1(y_test)\n",
    "\n",
    "# (pred - test)(=예측과 실제값의 차이)의 절댓값(=mae) 출력\n",
    "mae = np.mean(np.abs(y_test_unscaled.flatten() - y_pred_unscaled.flatten()))\n",
    "print(\"\\n 스케일링 되돌린 후 mae =\", mae)\n",
    "\n",
    "# 여기서 loss(=mse)값이 너무 크게 나왔을 때 해결방법\n",
    "# 1. 레이블을 정규화 or log 변환(log scale)(숫자가 작아져 모델 성능 향상도 기대 가능 but 모델 예측 후 되돌려야 함!)\n",
    "# 2. mse 대신 mae 값을 체크\n",
    "# 참고. mse는 손실의 '제곱'값이므로 값이 큰 게 정상일 수도 있음"
   ]
  },
  {
   "cell_type": "code",
   "execution_count": 96,
   "metadata": {},
   "outputs": [
    {
     "data": {
      "image/png": "[encoded data removed]",
      "text/plain": [
       "<Figure size 1000x700 with 1 Axes>"
      ]
     },
     "metadata": {},
     "output_type": "display_data"
    },
    {
     "name": "stdout",
     "output_type": "stream",
     "text": [
      "{'loss': [17.646944046020508, 0.6457720398902893, 0.21708892285823822, 0.1285172551870346, 0.10254469513893127, 0.08369698375463486, 0.07346031814813614, 0.06900667399168015, 0.06443561613559723, 0.059659410268068314, 0.05765843391418457, 0.055758289992809296, 0.05422048643231392, 0.053131986409425735, 0.05149541795253754], 'mae': [2.6372992992401123, 0.563669741153717, 0.3186908960342407, 0.25656619668006897, 0.2318907082080841, 0.21750234067440033, 0.20607607066631317, 0.19863653182983398, 0.19285592436790466, 0.18596048653125763, 0.18363626301288605, 0.1803581863641739, 0.1782042682170868, 0.17710410058498383, 0.1732679307460785], 'mse': [17.646944046020508, 0.6457720398902893, 0.21708892285823822, 0.1285172551870346, 0.10254469513893127, 0.08369698375463486, 0.07346031814813614, 0.06900667399168015, 0.06443561613559723, 0.059659410268068314, 0.05765843391418457, 0.055758289992809296, 0.05422048643231392, 0.053131986409425735, 0.05149541795253754], 'val_loss': [1.1785874366760254, 0.26625800132751465, 0.1317395567893982, 0.1009441614151001, 0.07854548841714859, 0.06422194093465805, 0.06300048530101776, 0.04610307142138481, 0.06977557390928268, 0.09541277587413788, 0.07493115216493607, 0.04506032541394234, 0.04220093786716461, 0.04249187558889389, 0.07109159976243973], 'val_mae': [0.799682080745697, 0.3749231994152069, 0.2581897974014282, 0.2249024659395218, 0.19764578342437744, 0.18791909515857697, 0.18703807890415192, 0.15683041512966156, 0.21043604612350464, 0.25171980261802673, 0.22233685851097107, 0.1550685167312622, 0.14816826581954956, 0.1468614637851715, 0.21332675218582153], 'val_mse': [1.1785874366760254, 0.26625800132751465, 0.1317395567893982, 0.1009441614151001, 0.07854548841714859, 0.06422194093465805, 0.06300048530101776, 0.04610307142138481, 0.06977557390928268, 0.09541277587413788, 0.07493115216493607, 0.04506032541394234, 0.04220093786716461, 0.04249187558889389, 0.07109159976243973]}\n"
     ]
    }
   ],
   "source": [
    "# loss 체크\n",
    "import matplotlib.pyplot as plt\n",
    "plt.figure(figsize=(10,7))\n",
    "plt.plot(range(N_EPOCHS), history.history['loss'], label='train loss')\n",
    "plt.plot(range(N_EPOCHS), history.history['val_loss'], label='test loss')\n",
    "plt.xlabel('Epoch')\n",
    "plt.ylabel('Loss')\n",
    "plt.ylim(0, 1)\n",
    "plt.legend()\n",
    "plt.show()\n",
    "\n",
    "print(history.history)"
   ]
  },
  {
   "cell_type": "code",
   "execution_count": null,
   "metadata": {},
   "outputs": [
    {
     "name": "stdout",
     "output_type": "stream",
     "text": [
      "\u001b[1m136/136\u001b[0m \u001b[32m━━━━━━━━━━━━━━━━━━━━\u001b[0m\u001b[37m\u001b[0m \u001b[1m0s\u001b[0m 2ms/step - loss: 0.0734 - mae: 0.2202 - mse: 0.0734\n"
     ]
    },
    {
     "data": {
      "text/plain": [
       "[0.07179323583841324, 0.07179323583841324, 0.21671506762504578]"
      ]
     },
     "execution_count": 84,
     "metadata": {},
     "output_type": "execute_result"
    }
   ],
   "source": [
    "# 주어진 데이터(X, y)를 이용해 모델 평가. 모델 작동 후 loss 등 모델 선언 시 지정해 둔 모델 평가 지표를 출력.\n",
    "\n",
    "model.evaluate(X_test, y_test)"
   ]
  }
 ],
 "metadata": {
  "kernelspec": {
   "display_name": "2025AI",
   "language": "python",
   "name": "python3"
  },
  "language_info": {
   "codemirror_mode": {
    "name": "ipython",
    "version": 3
   },
   "file_extension": ".py",
   "mimetype": "text/x-python",
   "name": "python",
   "nbconvert_exporter": "python",
   "pygments_lexer": "ipython3",
   "version": "3.12.8"
  }
 },
 "nbformat": 4,
 "nbformat_minor": 2
}
