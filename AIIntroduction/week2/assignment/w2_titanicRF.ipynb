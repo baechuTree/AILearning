{
 "cells": [
  {
   "cell_type": "markdown",
   "metadata": {},
   "source": [
    "### 데이터 전처리하기: 2. RF 모델에서\n",
    "전처리 과정은 w2_titanicDT.ipynb에 정리되어 있음!"
   ]
  },
  {
   "cell_type": "code",
   "execution_count": 1,
   "metadata": {},
   "outputs": [
    {
     "name": "stdout",
     "output_type": "stream",
     "text": [
      "PassengerId      0\n",
      "Survived         0\n",
      "Pclass           0\n",
      "Name             0\n",
      "Sex              0\n",
      "Age            177\n",
      "SibSp            0\n",
      "Parch            0\n",
      "Ticket           0\n",
      "Fare             0\n",
      "Cabin          687\n",
      "Embarked         2\n",
      "dtype: int64\n"
     ]
    }
   ],
   "source": [
    "# 1. 결측치 확인\n",
    "\n",
    "import pandas as pd\n",
    "\n",
    "# 데이터 불러오기\n",
    "df = pd.read_csv(\"../titanic.csv\") # URL로 불러오려면 URL을 적어넣으면 됨\n",
    "\n",
    "# 결측치 확인\n",
    "print(df.isnull().sum()) # null인 칸 개수 반환"
   ]
  },
  {
   "cell_type": "code",
   "execution_count": 2,
   "metadata": {},
   "outputs": [
    {
     "name": "stdout",
     "output_type": "stream",
     "text": [
      "PassengerId    0\n",
      "Survived       0\n",
      "Pclass         0\n",
      "Name           0\n",
      "Sex            0\n",
      "Age            0\n",
      "SibSp          0\n",
      "Parch          0\n",
      "Ticket         0\n",
      "Fare           0\n",
      "Embarked       0\n",
      "dtype: int64\n"
     ]
    },
    {
     "name": "stderr",
     "output_type": "stream",
     "text": [
      "C:\\Users\\jt341\\AppData\\Local\\Temp\\ipykernel_16232\\427350484.py:7: FutureWarning: A value is trying to be set on a copy of a DataFrame or Series through chained assignment using an inplace method.\n",
      "The behavior will change in pandas 3.0. This inplace method will never work because the intermediate object on which we are setting values always behaves as a copy.\n",
      "\n",
      "For example, when doing 'df[col].method(value, inplace=True)', try using 'df.method({col: value}, inplace=True)' or df[col] = df[col].method(value) instead, to perform the operation inplace on the original object.\n",
      "\n",
      "\n",
      "  df['Embarked'].fillna(df['Embarked'].mode()[0], inplace=True) # Embarked 결측치 채우기 (최빈값(가장 많이 등장한 값)으로 채우기)\n",
      "C:\\Users\\jt341\\AppData\\Local\\Temp\\ipykernel_16232\\427350484.py:11: FutureWarning: A value is trying to be set on a copy of a DataFrame or Series through chained assignment using an inplace method.\n",
      "The behavior will change in pandas 3.0. This inplace method will never work because the intermediate object on which we are setting values always behaves as a copy.\n",
      "\n",
      "For example, when doing 'df[col].method(value, inplace=True)', try using 'df.method({col: value}, inplace=True)' or df[col] = df[col].method(value) instead, to perform the operation inplace on the original object.\n",
      "\n",
      "\n",
      "  df['Age'].fillna(df['Age'].mean(), inplace=True) # Age 결측치 채우기 (평균값으로 채우기)\n"
     ]
    }
   ],
   "source": [
    "# 2. 결측치 제거(아래는 chatGPT가 권장한 처리 방법)\n",
    "# Cabin 컬럼 제거, Embarked 컬럼 최빈값 처리:, Age 컬럼 평균 or 중앙값 처리\n",
    "\n",
    "df.drop(columns=['Cabin'], inplace=True) # Cabin 컬럼 삭제\n",
    "    # inplace=True: 변경사항을 df에 덮어쓰겠다는 뜻. 기본적으로 컬럼(열) 변경 함수는 바뀐 결과를 반환해 새 변수에 할당하게 할 뿐, df 자체를 바꾸지는 않음. inplace=True를 쓰면 df 자체가 변화하게 됨.\n",
    "\n",
    "df['Embarked'].fillna(df['Embarked'].mode()[0], inplace=True) # Embarked 결측치 채우기 (최빈값(가장 많이 등장한 값)으로 채우기)\n",
    "    # fillna: 데이터의 결측값을 원하는 값으로 변경하는 메서드\n",
    "    # mode()[0]: 특정 데이터의 최빈값을 반환. 최빈값은 여러개일 수 있으므로 첫 번째 최빈값([0])만 가져옴.\n",
    "\n",
    "df['Age'].fillna(df['Age'].mean(), inplace=True) # Age 결측치 채우기 (평균값으로 채우기)\n",
    "    # mean(): 특정 데이터의 평균값을 반환.\n",
    "\n",
    "print(df.isnull().sum()) # 결측치 다시 확인"
   ]
  },
  {
   "cell_type": "code",
   "execution_count": 3,
   "metadata": {},
   "outputs": [
    {
     "name": "stdout",
     "output_type": "stream",
     "text": [
      "Survived\n",
      "0    549\n",
      "1    342\n",
      "Name: count, dtype: int64\n"
     ]
    },
    {
     "data": {
      "image/png": "[encoded data removed]",
      "text/plain": [
       "<Figure size 640x480 with 1 Axes>"
      ]
     },
     "metadata": {},
     "output_type": "display_data"
    }
   ],
   "source": [
    "# 3. 레이블 불균형(imbalanced data) 확인\n",
    "\n",
    "# Survived 값 개수 확인\n",
    "print(df['Survived'].value_counts())\n",
    "    # value_counts(): 열의 각 값의 개수를 반환\n",
    "\n",
    "# 시각화\n",
    "import seaborn as sns\n",
    "import matplotlib.pyplot as plt\n",
    "\n",
    "sns.countplot(x=df['Survived'])\n",
    "plt.title(\"Survival Count\")\n",
    "plt.show()"
   ]
  },
  {
   "cell_type": "code",
   "execution_count": 4,
   "metadata": {},
   "outputs": [
    {
     "name": "stdout",
     "output_type": "stream",
     "text": [
      "   Survived  Pclass     Sex   Age  SibSp  Parch     Fare Embarked\n",
      "0         0       3    male  22.0      1      0   7.2500        S\n",
      "1         1       1  female  38.0      1      0  71.2833        C\n",
      "2         1       3  female  26.0      0      0   7.9250        S\n",
      "3         1       1  female  35.0      1      0  53.1000        S\n",
      "4         0       3    male  35.0      0      0   8.0500        S\n"
     ]
    }
   ],
   "source": [
    "# 4. 노이즈 제거: 불필요한 컬럼(속성) 제거\n",
    "# 보통 삭제하는 컬럼 종류:\n",
    "    # 1. 레이블(결과)와 아무 관련 없는 컬럼: PassengerID(고객ID), Name, Ticket(티켓번호) 등은 고객의 생존 여부와 아무 관련이 없음\n",
    "    # 2. 결측치가 너무 많은 컬럼: Cabin은 결측치가 891개 데이터 중 687개나 나옴. but Cabin 유무(0, 1) 같은 식으로 바꿔 사용하기도 함\n",
    "\n",
    "# 불필요한 컬럼 제거(Cabin은 이미 2. 결측치 제거에서 없앴으므로 여기서는 하지 않음)\n",
    "df_cleaned = df.drop(columns=['PassengerId', 'Name', 'Ticket'])\n",
    "\n",
    "# 결과 확인\n",
    "print(df_cleaned.head())"
   ]
  },
  {
   "cell_type": "code",
   "execution_count": 5,
   "metadata": {},
   "outputs": [
    {
     "name": "stdout",
     "output_type": "stream",
     "text": [
      "Sex\n",
      "male      577\n",
      "female    314\n",
      "Name: count, dtype: int64\n",
      "Embarked\n",
      "S    646\n",
      "C    168\n",
      "Q     77\n",
      "Name: count, dtype: int64\n",
      "----[위: 변환 전, 아래: 변환 후]----\n",
      "Sex\n",
      "1    577\n",
      "0    314\n",
      "Name: count, dtype: int64\n",
      "Embarked\n",
      "2    646\n",
      "0    168\n",
      "1     77\n",
      "Name: count, dtype: int64\n",
      "   Survived  Pclass  Sex   Age  SibSp  Parch     Fare  Embarked\n",
      "0         0       3    1  22.0      1      0   7.2500         2\n",
      "1         1       1    0  38.0      1      0  71.2833         0\n",
      "2         1       3    0  26.0      0      0   7.9250         2\n",
      "3         1       1    0  35.0      1      0  53.1000         2\n",
      "4         0       3    1  35.0      0      0   8.0500         2\n"
     ]
    }
   ],
   "source": [
    "# 5. 인코딩(숫자가 아닌 데이터를 숫자로 변환)\n",
    "# 인코딩을 하는 이유: 일반적인 AI 모델은 숫자만 다룰 수 있기 때문!\n",
    "\n",
    "# **인코딩 전: 열의 각 값의 개수 확인(이 개수를 알아둬야 인코딩 후 어떤 숫자가 어떤 값을 가리키는지 알 수 있음)\n",
    "print(df_cleaned['Sex'].value_counts())  # 성별 개수 확인\n",
    "print(df_cleaned['Embarked'].value_counts())  # 탑승항구 개수 확인\n",
    "print(\"----[위: 변환 전, 아래: 변환 후]----\")\n",
    "\n",
    "\n",
    "# **인코딩: Label Encoding 방법 사용\n",
    "# 변환 전, 후 값 개수를 비교하며 어떤 값이 어떤 숫자로 바뀌었는지 확인해보자\n",
    "from sklearn.preprocessing import LabelEncoder\n",
    "\n",
    "# Sex 컬럼 인코딩\n",
    "sex_encoder = LabelEncoder()\n",
    "df_cleaned['Sex'] = sex_encoder.fit_transform(df_cleaned['Sex'])\n",
    "\n",
    "# Embarked 컬럼 인코딩\n",
    "embarked_encoder = LabelEncoder()\n",
    "df_cleaned['Embarked'] = embarked_encoder.fit_transform(df_cleaned['Embarked'])\n",
    "\n",
    "# 변환 후 확인\n",
    "print(df_cleaned['Sex'].value_counts())  # 성별 개수 확인\n",
    "print(df_cleaned['Embarked'].value_counts())  # 탑승항구 개수 확인\n",
    "print(df_cleaned.head()) # 표 윗부분 확인"
   ]
  },
  {
   "cell_type": "code",
   "execution_count": 9,
   "metadata": {},
   "outputs": [
    {
     "name": "stdout",
     "output_type": "stream",
     "text": [
      "Survived\n",
      "0    549\n",
      "1    549\n",
      "Name: count, dtype: int64\n"
     ]
    }
   ],
   "source": [
    "# 외전. 레이블 불균형 해결하기(균형 맞추기)\n",
    "# SMOTE 외의 방법은 역시 w2_titanDT.ipynb에\n",
    "\n",
    "# SMOTE: 일반적으로 가장 많이 사용. 기존 데이터 기반으로 새로운 데이터를 생성해 오버샘플링.\n",
    "# 주의: 얘는 모든 데이터가 숫자일 때만 작동! 인코딩 먼저 해야 함.\n",
    "from imblearn.over_sampling import SMOTE\n",
    "\n",
    "X = df_cleaned.drop(columns=['Survived'])  # 입력 데이터\n",
    "y = df_cleaned['Survived']  # 레이블\n",
    "\n",
    "# SMOTE 적용\n",
    "smote = SMOTE(random_state=42)\n",
    "X_smote, y_smote = smote.fit_resample(X, y) # X_smote, y_smote가 샘플링 후 결과물\n",
    "\n",
    "# 결과 확인\n",
    "print(y_smote.value_counts())"
   ]
  },
  {
   "cell_type": "code",
   "execution_count": 19,
   "metadata": {},
   "outputs": [
    {
     "name": "stdout",
     "output_type": "stream",
     "text": [
      "테스트 데이터 정확도: 0.87\n",
      "교차 검증 정확도 평균: 0.83\n"
     ]
    },
    {
     "data": {
      "image/png": "[encoded data removed]",
      "text/plain": [
       "<Figure size 640x480 with 1 Axes>"
      ]
     },
     "metadata": {},
     "output_type": "display_data"
    }
   ],
   "source": [
    "# 6. 만든 데이터로 RF 모델 학습\n",
    "# 코드에 익숙해지도록 주석 제거. 주석은 w1_irisRF.ipynb에\n",
    "\n",
    "import pandas as pd\n",
    "import numpy as np\n",
    "from sklearn.model_selection import train_test_split, cross_val_score\n",
    "from sklearn.ensemble import RandomForestClassifier\n",
    "from sklearn.metrics import accuracy_score\n",
    "import matplotlib.pyplot as plt\n",
    "\n",
    "X = X_smote\n",
    "y = y_smote\n",
    "\n",
    "X_train, X_test, y_train, y_test = train_test_split(X, y, test_size=0.2, random_state=42)\n",
    "\n",
    "rf_model = RandomForestClassifier(n_estimators=10, max_depth=4, random_state=42)\n",
    "    # n_estimators=100: DT 모델을 100개 사용. 많으면 성능 향상 but 계산량 증가\n",
    "\n",
    "rf_model.fit(X_train, y_train)\n",
    "\n",
    "y_pred = rf_model.predict(X_test)\n",
    "\n",
    "accuracy = accuracy_score(y_test, y_pred)\n",
    "print(f\"테스트 데이터 정확도: {accuracy:.2f}\")\n",
    "\n",
    "cv_scores = cross_val_score(rf_model, X, y, cv=5)\n",
    "print(f\"교차 검증 정확도 평균: {cv_scores.mean():.2f}\")\n",
    "\n",
    "# 외전. 특성 중요도 추출(어떤 특성이 노드의 결정에 영향을 많이 주었는가)\n",
    "feature_importances = rf_model.feature_importances_\n",
    "    # 1이면 해당 특성만으로 모든 x의 y가 결정됨\n",
    "    # 0이면 영향 X\n",
    "\n",
    "# 시각화\n",
    "plt.barh(X.columns, feature_importances)\n",
    "plt.xlabel(\"Feature Importance\")\n",
    "plt.ylabel(\"Feature\")\n",
    "plt.title(\"Random Forest Feature Importance\")\n",
    "plt.show()"
   ]
  },
  {
   "cell_type": "code",
   "execution_count": 20,
   "metadata": {},
   "outputs": [
    {
     "data": {
      "image/png": "[encoded data removed]",
      "text/plain": [
       "<Figure size 600x400 with 2 Axes>"
      ]
     },
     "metadata": {},
     "output_type": "display_data"
    },
    {
     "name": "stdout",
     "output_type": "stream",
     "text": [
      "              precision    recall  f1-score   support\n",
      "\n",
      "           0       0.83      0.90      0.87       103\n",
      "           1       0.91      0.84      0.87       117\n",
      "\n",
      "    accuracy                           0.87       220\n",
      "   macro avg       0.87      0.87      0.87       220\n",
      "weighted avg       0.87      0.87      0.87       220\n",
      "\n"
     ]
    }
   ],
   "source": [
    "# 7. Confusion Matrix 만들기\n",
    "\n",
    "from sklearn.metrics import confusion_matrix, classification_report\n",
    "import seaborn as sns\n",
    "import matplotlib.pyplot as plt\n",
    "\n",
    "# 예측값과 실제값 비교\n",
    "cm = confusion_matrix(y_test, y_pred)\n",
    "\n",
    "# Confusion Matrix 시각화\n",
    "plt.figure(figsize=(6, 4))\n",
    "sns.heatmap(cm, annot=True, fmt='d', cmap='Blues', xticklabels=[\"Pred 0\", \"Pred 1\"], yticklabels=[\"Actual 0\", \"Actual 1\"])\n",
    "plt.xlabel(\"Predicted Label\")\n",
    "plt.ylabel(\"Actual Label\")\n",
    "plt.title(\"Confusion Matrix\")\n",
    "plt.show()\n",
    "\n",
    "# 정밀도, 재현율, F1-score 출력\n",
    "print(classification_report(y_test, y_pred))"
   ]
  }
 ],
 "metadata": {
  "kernelspec": {
   "display_name": "2025AI",
   "language": "python",
   "name": "python3"
  },
  "language_info": {
   "codemirror_mode": {
    "name": "ipython",
    "version": 3
   },
   "file_extension": ".py",
   "mimetype": "text/x-python",
   "name": "python",
   "nbconvert_exporter": "python",
   "pygments_lexer": "ipython3",
   "version": "3.12.8"
  }
 },
 "nbformat": 4,
 "nbformat_minor": 2
}
