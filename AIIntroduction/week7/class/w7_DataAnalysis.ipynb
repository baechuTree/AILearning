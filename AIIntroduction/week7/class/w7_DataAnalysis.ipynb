{
 "cells": [
  {
   "cell_type": "markdown",
   "id": "8b9e7586",
   "metadata": {},
   "source": [
    "### 데이터 분석하기\n",
    "여기서 해볼 것: hist, barplot, boxplot, violinplot, countplot, pie, heatmap, scatterplot(산점도)"
   ]
  },
  {
   "cell_type": "code",
   "execution_count": 6,
   "id": "5250638a",
   "metadata": {},
   "outputs": [
    {
     "name": "stdout",
     "output_type": "stream",
     "text": [
      "Index(['Patient_Number', 'Blood_Pressure_Abnormality', 'Level_of_Hemoglobin',\n",
      "       'Genetic_Pedigree_Coefficient', 'Age', 'BMI', 'Sex', 'Pregnancy',\n",
      "       'Smoking', 'Physical_activity', 'salt_content_in_the_diet',\n",
      "       'alcohol_consumption_per_day', 'Level_of_Stress',\n",
      "       'Chronic_kidney_disease', 'Adrenal_and_thyroid_disorders'],\n",
      "      dtype='object')\n",
      "<bound method NDFrame.head of       Patient_Number  Blood_Pressure_Abnormality  Level_of_Hemoglobin  \\\n",
      "0                  1                           1                11.28   \n",
      "1                  2                           0                 9.75   \n",
      "2                  3                           1                10.79   \n",
      "3                  4                           0                11.00   \n",
      "4                  5                           1                14.17   \n",
      "...              ...                         ...                  ...   \n",
      "1995            1996                           1                10.14   \n",
      "1996            1997                           1                11.77   \n",
      "1997            1998                           1                16.91   \n",
      "1998            1999                           0                11.15   \n",
      "1999            2000                           1                11.36   \n",
      "\n",
      "      Genetic_Pedigree_Coefficient  Age  BMI  Sex  Pregnancy  Smoking  \\\n",
      "0                             0.90   34   23    1        1.0        0   \n",
      "1                             0.23   54   33    1        NaN        0   \n",
      "2                             0.91   70   49    0        NaN        0   \n",
      "3                             0.43   71   50    0        NaN        0   \n",
      "4                             0.83   52   19    0        NaN        0   \n",
      "...                            ...  ...  ...  ...        ...      ...   \n",
      "1995                          0.02   69   26    1        NaN        1   \n",
      "1996                          1.00   24   45    1        1.0        1   \n",
      "1997                          0.22   18   42    0        NaN        0   \n",
      "1998                          0.72   46   45    1        NaN        1   \n",
      "1999                          0.09   41   45    0        NaN        0   \n",
      "\n",
      "      Physical_activity  salt_content_in_the_diet  \\\n",
      "0                 45961                     48071   \n",
      "1                 26106                     25333   \n",
      "2                  9995                     29465   \n",
      "3                 10635                      7439   \n",
      "4                 15619                     49644   \n",
      "...                 ...                       ...   \n",
      "1995              26118                     47568   \n",
      "1996               2572                      8063   \n",
      "1997              14933                     24753   \n",
      "1998              18157                     15275   \n",
      "1999              20729                     30463   \n",
      "\n",
      "      alcohol_consumption_per_day  Level_of_Stress  Chronic_kidney_disease  \\\n",
      "0                             NaN                2                       1   \n",
      "1                           205.0                3                       0   \n",
      "2                            67.0                2                       1   \n",
      "3                           242.0                1                       1   \n",
      "4                           397.0                2                       0   \n",
      "...                           ...              ...                     ...   \n",
      "1995                        144.0                3                       1   \n",
      "1996                          NaN                3                       1   \n",
      "1997                          NaN                2                       1   \n",
      "1998                        253.0                3                       0   \n",
      "1999                        230.0                1                       1   \n",
      "\n",
      "      Adrenal_and_thyroid_disorders  \n",
      "0                                 1  \n",
      "1                                 0  \n",
      "2                                 0  \n",
      "3                                 0  \n",
      "4                                 0  \n",
      "...                             ...  \n",
      "1995                              0  \n",
      "1996                              1  \n",
      "1997                              1  \n",
      "1998                              1  \n",
      "1999                              0  \n",
      "\n",
      "[2000 rows x 15 columns]>\n"
     ]
    }
   ],
   "source": [
    "# 데이터 불러오기\n",
    "import pandas as pd\n",
    "\n",
    "df = pd.read_csv('../BP_data.csv')\n",
    "\n",
    "print(df.columns)\n",
    "print(df.head)"
   ]
  },
  {
   "cell_type": "code",
   "execution_count": null,
   "id": "cac0a96f",
   "metadata": {},
   "outputs": [
    {
     "name": "stderr",
     "output_type": "stream",
     "text": [
      "C:\\Users\\jt341\\AppData\\Local\\Temp\\ipykernel_25200\\2997061711.py:18: MatplotlibDeprecationWarning: The 'labels' parameter of boxplot() has been renamed 'tick_labels' since Matplotlib 3.9; support for the old name will be dropped in 3.11.\n",
      "  plt.boxplot([group_0, group_1],\n"
     ]
    },
    {
     "data": {
      "image/png": "[encoded data removed]",
      "text/plain": [
       "<Figure size 800x500 with 1 Axes>"
      ]
     },
     "metadata": {},
     "output_type": "display_data"
    }
   ],
   "source": [
    "# 데이터 분포 시각화\n",
    "\n",
    "import matplotlib.pyplot as plt\n",
    "\n",
    "# 결측값 제거\n",
    "df_plot = df[['Sex', 'BMI']].dropna()\n",
    "\n",
    "# 성별로 데이터 분리\n",
    "group_0 = df_plot[df_plot['Sex'] == 0]['BMI']\n",
    "group_1 = df_plot[df_plot['Sex'] == 1]['BMI']\n",
    "\n",
    "# 박스플롯 그리기\n",
    "plt.figure(figsize=(8, 5))\n",
    "plt.boxplot([group_0, group_1],\n",
    "            labels=['Sex = 0', 'Sex = 1'],\n",
    "            patch_artist=True,\n",
    "            boxprops=dict(facecolor='lightblue'))\n",
    "\n",
    "plt.title(\"Boxplot of Physical Activity by Sex\")\n",
    "plt.ylabel(\"Physical Activity\")\n",
    "plt.grid(True)\n",
    "plt.show()"
   ]
  }
 ],
 "metadata": {
  "kernelspec": {
   "display_name": "2025AI",
   "language": "python",
   "name": "python3"
  },
  "language_info": {
   "codemirror_mode": {
    "name": "ipython",
    "version": 3
   },
   "file_extension": ".py",
   "mimetype": "text/x-python",
   "name": "python",
   "nbconvert_exporter": "python",
   "pygments_lexer": "ipython3",
   "version": "3.12.8"
  }
 },
 "nbformat": 4,
 "nbformat_minor": 5
}
