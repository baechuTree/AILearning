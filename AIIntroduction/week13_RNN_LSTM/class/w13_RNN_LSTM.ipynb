{
 "cells": [
  {
   "cell_type": "markdown",
   "id": "9469819d",
   "metadata": {},
   "source": [
    "### RNN, LSTM 돌려보기: 열 1개 데이터로\n",
    "가능한 한 교재 코드를 따라해봤지만 모델이 제대로 학습하지 않음.   \n",
    "w13_RNN_LSTM2.ipynb에서 chatGPT가 준 코드와 비교하며 찾아보니, 데이터를 정규화하지 않아 발생하는 문제였음!   \n",
    "RNN에서는 범위가 0~1을 넘어가는 데이터를 꼭 정규화할 것."
   ]
  },
  {
   "cell_type": "code",
   "execution_count": 82,
   "id": "ab48307d",
   "metadata": {},
   "outputs": [],
   "source": [
    "# 라이브러리\n",
    "\n",
    "import numpy as np\n",
    "from tensorflow.keras.models import Sequential\n",
    "from tensorflow.keras.layers import SimpleRNN\n",
    "from tensorflow.keras.layers import Dense\n",
    "from sklearn.preprocessing import MinMaxScaler\n",
    "import matplotlib.pyplot as plt\n",
    "import pandas as pd"
   ]
  },
  {
   "cell_type": "markdown",
   "id": "e4a86978",
   "metadata": {},
   "source": [
    "#### 데이터 다루기"
   ]
  },
  {
   "cell_type": "code",
   "execution_count": 83,
   "id": "df53a4b7",
   "metadata": {},
   "outputs": [],
   "source": [
    "# 샘플 데이터 생성 함수\n",
    "\n",
    "def make_sample(data, window):\n",
    "    train = []\n",
    "    target = []\n",
    "    for i in range(len(data) - window):  # 생성할 샘플 수만큼 반복\n",
    "        train.append(data[i:i+window])  # 데이터를 i ~ (i + window - 1)까지 저장(입력)\n",
    "        target.append(data[i+window])  # (i + window)번째 데이터(정답)\n",
    "    \n",
    "    return np.array(train), np.array(target)  # 둘을 numpy로 return"
   ]
  },
  {
   "cell_type": "code",
   "execution_count": 84,
   "id": "325dea66",
   "metadata": {},
   "outputs": [
    {
     "name": "stdout",
     "output_type": "stream",
     "text": [
      "         Date  Open  High   Low  Close  Adj Close  Volume\n",
      "0  1980-03-17   0.0  4.05  3.85   3.85   3.213167   15000\n",
      "1  1980-03-18   0.0  4.00  3.80   3.80   3.171437   10200\n",
      "2  1980-03-19   0.0  4.05  3.85   3.85   3.213167   33500\n",
      "3  1980-03-20   0.0  4.00  3.80   3.80   3.171437    8700\n",
      "4  1980-03-21   0.0  3.95  3.75   3.75   3.129709   12700\n",
      "   Open  High   Low  Close  Adj Close  Volume\n",
      "0   0.0  4.05  3.85   3.85   3.213167   15000\n",
      "1   0.0  4.00  3.80   3.80   3.171437   10200\n",
      "2   0.0  4.05  3.85   3.85   3.213167   33500\n",
      "3   0.0  4.00  3.80   3.80   3.171437    8700\n",
      "4   0.0  3.95  3.75   3.75   3.129709   12700\n",
      "[[0.       ]\n",
      " [0.       ]\n",
      " [0.       ]\n",
      " ...\n",
      " [2.25     ]\n",
      " [2.1099999]\n",
      " [2.1099999]]\n"
     ]
    }
   ],
   "source": [
    "# 데이터 가져오기\n",
    "\n",
    "df = pd.read_csv('../AAME.csv')\n",
    "\n",
    "print(df.head())  # 데이터 확인\n",
    "\n",
    "df = df.drop(columns='Date')\n",
    "\n",
    "print(df.head())\n",
    "\n",
    "df = df['Open'].values.reshape(-1, 1)  # Open 값만 써서 해 보기\n",
    "\n",
    "print(df)"
   ]
  },
  {
   "cell_type": "code",
   "execution_count": 85,
   "id": "4969ae09",
   "metadata": {},
   "outputs": [],
   "source": [
    "# 결측치 제거\n",
    "\n",
    "df = df[df != 0.0].reshape(-1, 1)  # 0.0 인 행 제거\n",
    "\n",
    "# 데이터 정규화(필수!)\n",
    "\n",
    "scaler = MinMaxScaler()\n",
    "df = scaler.fit_transform(df)"
   ]
  },
  {
   "cell_type": "code",
   "execution_count": 86,
   "id": "e98beca8",
   "metadata": {},
   "outputs": [
    {
     "data": {
      "text/plain": [
       "array([[[0.25163704],\n",
       "        [0.22918615],\n",
       "        [0.22918615],\n",
       "        ...,\n",
       "        [0.28157154],\n",
       "        [0.292797  ],\n",
       "        [0.292797  ]],\n",
       "\n",
       "       [[0.22918615],\n",
       "        [0.22918615],\n",
       "        [0.31150607],\n",
       "        ...,\n",
       "        [0.292797  ],\n",
       "        [0.292797  ],\n",
       "        [0.292797  ]],\n",
       "\n",
       "       [[0.22918615],\n",
       "        [0.31150607],\n",
       "        [0.36014967],\n",
       "        ...,\n",
       "        [0.292797  ],\n",
       "        [0.292797  ],\n",
       "        [0.27782975]],\n",
       "\n",
       "       ...,\n",
       "\n",
       "       [[0.24415341],\n",
       "        [0.24789523],\n",
       "        [0.24565014],\n",
       "        ...,\n",
       "        [0.25388212],\n",
       "        [0.25612721],\n",
       "        [0.25537885]],\n",
       "\n",
       "       [[0.24789523],\n",
       "        [0.24565014],\n",
       "        [0.24490178],\n",
       "        ...,\n",
       "        [0.25612721],\n",
       "        [0.25537885],\n",
       "        [0.25912068]],\n",
       "\n",
       "       [[0.24565014],\n",
       "        [0.24490178],\n",
       "        [0.2404116 ],\n",
       "        ...,\n",
       "        [0.25537885],\n",
       "        [0.25912068],\n",
       "        [0.25837231]]])"
      ]
     },
     "execution_count": 86,
     "metadata": {},
     "output_type": "execute_result"
    }
   ],
   "source": [
    "# X와 y 제작\n",
    "\n",
    "window_size = 30\n",
    "\n",
    "X, y = make_sample(df, window_size)\n",
    "\n",
    "# train, test 분할(어째선지 얘는 train_test_split을 쓰면 데이터가 이상해짐)\n",
    "\n",
    "split = int(len(X) * 0.8)\n",
    "X_train, X_test = X[:split], X[split:]\n",
    "y_train, y_test = y[:split], y[split:]\n",
    "\n",
    "X_train"
   ]
  },
  {
   "cell_type": "markdown",
   "id": "27a13771",
   "metadata": {},
   "source": [
    "#### 1. RNN 모델"
   ]
  },
  {
   "cell_type": "code",
   "execution_count": 87,
   "id": "5b7cddf8",
   "metadata": {},
   "outputs": [
    {
     "name": "stderr",
     "output_type": "stream",
     "text": [
      "c:\\Users\\jt341\\anaconda3\\envs\\2025AI\\Lib\\site-packages\\keras\\src\\layers\\rnn\\rnn.py:200: UserWarning: Do not pass an `input_shape`/`input_dim` argument to a layer. When using Sequential models, prefer using an `Input(shape)` object as the first layer in the model instead.\n",
      "  super().__init__(**kwargs)\n"
     ]
    },
    {
     "data": {
      "text/html": [
       "<pre style=\"white-space:pre;overflow-x:auto;line-height:normal;font-family:Menlo,'DejaVu Sans Mono',consolas,'Courier New',monospace\"><span style=\"font-weight: bold\">Model: \"sequential_10\"</span>\n",
       "</pre>\n"
      ],
      "text/plain": [
       "\u001b[1mModel: \"sequential_10\"\u001b[0m\n"
      ]
     },
     "metadata": {},
     "output_type": "display_data"
    },
    {
     "data": {
      "text/html": [
       "<pre style=\"white-space:pre;overflow-x:auto;line-height:normal;font-family:Menlo,'DejaVu Sans Mono',consolas,'Courier New',monospace\">┏━━━━━━━━━━━━━━━━━━━━━━━━━━━━━━━━━┳━━━━━━━━━━━━━━━━━━━━━━━━┳━━━━━━━━━━━━━━━┓\n",
       "┃<span style=\"font-weight: bold\"> Layer (type)                    </span>┃<span style=\"font-weight: bold\"> Output Shape           </span>┃<span style=\"font-weight: bold\">       Param # </span>┃\n",
       "┡━━━━━━━━━━━━━━━━━━━━━━━━━━━━━━━━━╇━━━━━━━━━━━━━━━━━━━━━━━━╇━━━━━━━━━━━━━━━┩\n",
       "│ simple_rnn_10 (<span style=\"color: #0087ff; text-decoration-color: #0087ff\">SimpleRNN</span>)       │ (<span style=\"color: #00d7ff; text-decoration-color: #00d7ff\">None</span>, <span style=\"color: #00af00; text-decoration-color: #00af00\">50</span>)             │         <span style=\"color: #00af00; text-decoration-color: #00af00\">2,600</span> │\n",
       "├─────────────────────────────────┼────────────────────────┼───────────────┤\n",
       "│ dense_21 (<span style=\"color: #0087ff; text-decoration-color: #0087ff\">Dense</span>)                │ (<span style=\"color: #00d7ff; text-decoration-color: #00d7ff\">None</span>, <span style=\"color: #00af00; text-decoration-color: #00af00\">1</span>)              │            <span style=\"color: #00af00; text-decoration-color: #00af00\">51</span> │\n",
       "└─────────────────────────────────┴────────────────────────┴───────────────┘\n",
       "</pre>\n"
      ],
      "text/plain": [
       "┏━━━━━━━━━━━━━━━━━━━━━━━━━━━━━━━━━┳━━━━━━━━━━━━━━━━━━━━━━━━┳━━━━━━━━━━━━━━━┓\n",
       "┃\u001b[1m \u001b[0m\u001b[1mLayer (type)                   \u001b[0m\u001b[1m \u001b[0m┃\u001b[1m \u001b[0m\u001b[1mOutput Shape          \u001b[0m\u001b[1m \u001b[0m┃\u001b[1m \u001b[0m\u001b[1m      Param #\u001b[0m\u001b[1m \u001b[0m┃\n",
       "┡━━━━━━━━━━━━━━━━━━━━━━━━━━━━━━━━━╇━━━━━━━━━━━━━━━━━━━━━━━━╇━━━━━━━━━━━━━━━┩\n",
       "│ simple_rnn_10 (\u001b[38;5;33mSimpleRNN\u001b[0m)       │ (\u001b[38;5;45mNone\u001b[0m, \u001b[38;5;34m50\u001b[0m)             │         \u001b[38;5;34m2,600\u001b[0m │\n",
       "├─────────────────────────────────┼────────────────────────┼───────────────┤\n",
       "│ dense_21 (\u001b[38;5;33mDense\u001b[0m)                │ (\u001b[38;5;45mNone\u001b[0m, \u001b[38;5;34m1\u001b[0m)              │            \u001b[38;5;34m51\u001b[0m │\n",
       "└─────────────────────────────────┴────────────────────────┴───────────────┘\n"
      ]
     },
     "metadata": {},
     "output_type": "display_data"
    },
    {
     "data": {
      "text/html": [
       "<pre style=\"white-space:pre;overflow-x:auto;line-height:normal;font-family:Menlo,'DejaVu Sans Mono',consolas,'Courier New',monospace\"><span style=\"font-weight: bold\"> Total params: </span><span style=\"color: #00af00; text-decoration-color: #00af00\">2,651</span> (10.36 KB)\n",
       "</pre>\n"
      ],
      "text/plain": [
       "\u001b[1m Total params: \u001b[0m\u001b[38;5;34m2,651\u001b[0m (10.36 KB)\n"
      ]
     },
     "metadata": {},
     "output_type": "display_data"
    },
    {
     "data": {
      "text/html": [
       "<pre style=\"white-space:pre;overflow-x:auto;line-height:normal;font-family:Menlo,'DejaVu Sans Mono',consolas,'Courier New',monospace\"><span style=\"font-weight: bold\"> Trainable params: </span><span style=\"color: #00af00; text-decoration-color: #00af00\">2,651</span> (10.36 KB)\n",
       "</pre>\n"
      ],
      "text/plain": [
       "\u001b[1m Trainable params: \u001b[0m\u001b[38;5;34m2,651\u001b[0m (10.36 KB)\n"
      ]
     },
     "metadata": {},
     "output_type": "display_data"
    },
    {
     "data": {
      "text/html": [
       "<pre style=\"white-space:pre;overflow-x:auto;line-height:normal;font-family:Menlo,'DejaVu Sans Mono',consolas,'Courier New',monospace\"><span style=\"font-weight: bold\"> Non-trainable params: </span><span style=\"color: #00af00; text-decoration-color: #00af00\">0</span> (0.00 B)\n",
       "</pre>\n"
      ],
      "text/plain": [
       "\u001b[1m Non-trainable params: \u001b[0m\u001b[38;5;34m0\u001b[0m (0.00 B)\n"
      ]
     },
     "metadata": {},
     "output_type": "display_data"
    }
   ],
   "source": [
    "# 모델 정의: RNN\n",
    "\n",
    "model = Sequential()\n",
    "\n",
    "model.add(SimpleRNN(50, activation='tanh', input_shape=(window_size,1)))\n",
    "model.add(Dense(1, activation='tanh'))\n",
    "\n",
    "model.compile(optimizer='adam', loss='mse', metrics = ['mse', 'mae'])\n",
    "\n",
    "model.summary()"
   ]
  },
  {
   "cell_type": "code",
   "execution_count": 88,
   "id": "9974604d",
   "metadata": {},
   "outputs": [
    {
     "name": "stdout",
     "output_type": "stream",
     "text": [
      "Epoch 1/15\n",
      "\u001b[1m213/213\u001b[0m \u001b[32m━━━━━━━━━━━━━━━━━━━━\u001b[0m\u001b[37m\u001b[0m \u001b[1m1s\u001b[0m 2ms/step - loss: 0.0038 - mae: 0.0326 - mse: 0.0038\n",
      "Epoch 2/15\n",
      "\u001b[1m213/213\u001b[0m \u001b[32m━━━━━━━━━━━━━━━━━━━━\u001b[0m\u001b[37m\u001b[0m \u001b[1m1s\u001b[0m 2ms/step - loss: 3.8989e-04 - mae: 0.0128 - mse: 3.8989e-04\n",
      "Epoch 3/15\n",
      "\u001b[1m213/213\u001b[0m \u001b[32m━━━━━━━━━━━━━━━━━━━━\u001b[0m\u001b[37m\u001b[0m \u001b[1m1s\u001b[0m 2ms/step - loss: 3.1512e-04 - mae: 0.0116 - mse: 3.1512e-04\n",
      "Epoch 4/15\n",
      "\u001b[1m213/213\u001b[0m \u001b[32m━━━━━━━━━━━━━━━━━━━━\u001b[0m\u001b[37m\u001b[0m \u001b[1m1s\u001b[0m 2ms/step - loss: 2.9597e-04 - mae: 0.0109 - mse: 2.9597e-04\n",
      "Epoch 5/15\n",
      "\u001b[1m213/213\u001b[0m \u001b[32m━━━━━━━━━━━━━━━━━━━━\u001b[0m\u001b[37m\u001b[0m \u001b[1m1s\u001b[0m 2ms/step - loss: 2.4458e-04 - mae: 0.0105 - mse: 2.4458e-04\n",
      "Epoch 6/15\n",
      "\u001b[1m213/213\u001b[0m \u001b[32m━━━━━━━━━━━━━━━━━━━━\u001b[0m\u001b[37m\u001b[0m \u001b[1m1s\u001b[0m 2ms/step - loss: 2.3124e-04 - mae: 0.0099 - mse: 2.3124e-04\n",
      "Epoch 7/15\n",
      "\u001b[1m213/213\u001b[0m \u001b[32m━━━━━━━━━━━━━━━━━━━━\u001b[0m\u001b[37m\u001b[0m \u001b[1m0s\u001b[0m 2ms/step - loss: 2.3800e-04 - mae: 0.0097 - mse: 2.3800e-04\n",
      "Epoch 8/15\n",
      "\u001b[1m213/213\u001b[0m \u001b[32m━━━━━━━━━━━━━━━━━━━━\u001b[0m\u001b[37m\u001b[0m \u001b[1m1s\u001b[0m 2ms/step - loss: 2.3209e-04 - mae: 0.0094 - mse: 2.3209e-04\n",
      "Epoch 9/15\n",
      "\u001b[1m213/213\u001b[0m \u001b[32m━━━━━━━━━━━━━━━━━━━━\u001b[0m\u001b[37m\u001b[0m \u001b[1m1s\u001b[0m 2ms/step - loss: 2.0039e-04 - mae: 0.0092 - mse: 2.0039e-04\n",
      "Epoch 10/15\n",
      "\u001b[1m213/213\u001b[0m \u001b[32m━━━━━━━━━━━━━━━━━━━━\u001b[0m\u001b[37m\u001b[0m \u001b[1m1s\u001b[0m 2ms/step - loss: 1.7292e-04 - mae: 0.0089 - mse: 1.7292e-04\n",
      "Epoch 11/15\n",
      "\u001b[1m213/213\u001b[0m \u001b[32m━━━━━━━━━━━━━━━━━━━━\u001b[0m\u001b[37m\u001b[0m \u001b[1m1s\u001b[0m 3ms/step - loss: 1.6879e-04 - mae: 0.0084 - mse: 1.6879e-04\n",
      "Epoch 12/15\n",
      "\u001b[1m213/213\u001b[0m \u001b[32m━━━━━━━━━━━━━━━━━━━━\u001b[0m\u001b[37m\u001b[0m \u001b[1m1s\u001b[0m 2ms/step - loss: 1.9945e-04 - mae: 0.0086 - mse: 1.9945e-04\n",
      "Epoch 13/15\n",
      "\u001b[1m213/213\u001b[0m \u001b[32m━━━━━━━━━━━━━━━━━━━━\u001b[0m\u001b[37m\u001b[0m \u001b[1m1s\u001b[0m 2ms/step - loss: 1.6049e-04 - mae: 0.0082 - mse: 1.6049e-04\n",
      "Epoch 14/15\n",
      "\u001b[1m213/213\u001b[0m \u001b[32m━━━━━━━━━━━━━━━━━━━━\u001b[0m\u001b[37m\u001b[0m \u001b[1m1s\u001b[0m 2ms/step - loss: 1.6853e-04 - mae: 0.0084 - mse: 1.6853e-04\n",
      "Epoch 15/15\n",
      "\u001b[1m213/213\u001b[0m \u001b[32m━━━━━━━━━━━━━━━━━━━━\u001b[0m\u001b[37m\u001b[0m \u001b[1m1s\u001b[0m 2ms/step - loss: 1.5786e-04 - mae: 0.0086 - mse: 1.5786e-04\n"
     ]
    },
    {
     "data": {
      "image/png": "[encoded data removed]",
      "text/plain": [
       "<Figure size 640x480 with 1 Axes>"
      ]
     },
     "metadata": {},
     "output_type": "display_data"
    }
   ],
   "source": [
    "# 모델 학습 및 학습 결과 시각화\n",
    "\n",
    "history = model.fit(X_train, y_train, epochs=15, verbose=1)\n",
    "\n",
    "plt.plot(history.history['mse'], label=\"mse\")\n",
    "\n",
    "plt.show()"
   ]
  },
  {
   "cell_type": "code",
   "execution_count": 89,
   "id": "4d720e13",
   "metadata": {},
   "outputs": [
    {
     "name": "stdout",
     "output_type": "stream",
     "text": [
      "[[0.2474024 ]\n",
      " [0.24372873]\n",
      " [0.24208838]\n",
      " ...\n",
      " [0.12897047]\n",
      " [0.12869397]\n",
      " [0.12001142]]\n"
     ]
    },
    {
     "data": {
      "image/png": "[encoded data removed]",
      "text/plain": [
       "<Figure size 640x480 with 1 Axes>"
      ]
     },
     "metadata": {},
     "output_type": "display_data"
    }
   ],
   "source": [
    "# 모델 평가\n",
    "\n",
    "y_pred = model.predict(X_test, verbose=0)\n",
    "\n",
    "print(y_pred)\n",
    "\n",
    "plt.plot(y_pred)\n",
    "plt.plot(y_test)\n",
    "\n",
    "plt.show()"
   ]
  }
 ],
 "metadata": {
  "kernelspec": {
   "display_name": "2025AI",
   "language": "python",
   "name": "python3"
  },
  "language_info": {
   "codemirror_mode": {
    "name": "ipython",
    "version": 3
   },
   "file_extension": ".py",
   "mimetype": "text/x-python",
   "name": "python",
   "nbconvert_exporter": "python",
   "pygments_lexer": "ipython3",
   "version": "3.12.8"
  }
 },
 "nbformat": 4,
 "nbformat_minor": 5
}
