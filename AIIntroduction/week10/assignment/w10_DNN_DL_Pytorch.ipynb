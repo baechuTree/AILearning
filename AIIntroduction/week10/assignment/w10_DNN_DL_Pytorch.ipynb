{
 "cells": [
  {
   "cell_type": "markdown",
   "id": "812343c1",
   "metadata": {},
   "source": [
    "### DNN(딥러닝), Pytorch 모델로 필기체 숫자 인식"
   ]
  },
  {
   "cell_type": "markdown",
   "id": "a9e3d975",
   "metadata": {},
   "source": [
    "#### 딥러닝으로 가기 전 - 머신러닝"
   ]
  },
  {
   "cell_type": "code",
   "execution_count": 1,
   "id": "e9ba5d64",
   "metadata": {},
   "outputs": [
    {
     "name": "stdout",
     "output_type": "stream",
     "text": [
      "0.9833333333333333\n",
      "[7]\n"
     ]
    },
    {
     "data": {
      "image/png": "[encoded data removed]",
      "text/plain": [
       "<Figure size 640x480 with 1 Axes>"
      ]
     },
     "metadata": {},
     "output_type": "display_data"
    }
   ],
   "source": [
    "import matplotlib.pyplot as plt\n",
    "from sklearn import datasets, metrics\n",
    "from sklearn.model_selection import train_test_split\n",
    "\n",
    "digits = datasets.load_digits()\n",
    "plt.imshow(digits.images[0], cmap=plt.cm.gray_r, interpolation='nearest')\n",
    "\n",
    "n_samples = len (digits.images)\n",
    "data = digits.images.reshape((n_samples, -1))\n",
    "\n",
    "from sklearn.neighbors import KNeighborsClassifier\n",
    "\n",
    "knn = KNeighborsClassifier (n_neighbors=6)\n",
    "\n",
    "X_train, X_test, y_train, y_test = train_test_split( data, digits.target, test_size=0.2)\n",
    "\n",
    "knn.fit(X_train, y_train)\n",
    "\n",
    "y_pred = knn.predict(X_test)\n",
    "\n",
    "scores = metrics.accuracy_score (y_test, y_pred)\n",
    "print(scores)\n",
    "\n",
    "plt.imshow(X_test[10].reshape(8,8), cmap=plt.cm.gray_r, interpolation='nearest')\n",
    "y_pred = knn.predict([X_test[10]])\n",
    "\n",
    "print(y_pred)"
   ]
  },
  {
   "cell_type": "markdown",
   "id": "d577219c",
   "metadata": {},
   "source": [
    "#### 딥러닝(DNN)으로 해 보기!"
   ]
  },
  {
   "cell_type": "code",
   "execution_count": 2,
   "id": "eed4b943",
   "metadata": {},
   "outputs": [],
   "source": [
    "import torch\n",
    "import torch.nn as nn\n",
    "import torch.optim as optim\n",
    "from sklearn import datasets\n",
    "from sklearn.model_selection import train_test_split\n",
    "from sklearn.preprocessing import StandardScaler\n",
    "from torch.utils.data import DataLoader, TensorDataset"
   ]
  },
  {
   "cell_type": "code",
   "execution_count": 3,
   "id": "8d09f6f2",
   "metadata": {},
   "outputs": [],
   "source": [
    "# 데이터 로드\n",
    "digits = datasets.load_digits()\n",
    "X = digits.data  # (1797, 64)\n",
    "y = digits.target"
   ]
  },
  {
   "cell_type": "code",
   "execution_count": 4,
   "id": "0eee6816",
   "metadata": {},
   "outputs": [],
   "source": [
    "# 정규화\n",
    "scaler = StandardScaler()\n",
    "X = scaler.fit_transform(X)"
   ]
  },
  {
   "cell_type": "code",
   "execution_count": 5,
   "id": "db7fdabb",
   "metadata": {},
   "outputs": [],
   "source": [
    "# train/test 분리\n",
    "X_train, X_test, y_train, y_test = train_test_split(X, y, test_size=0.2, random_state=42)\n",
    "\n",
    "# Tensor 변환\n",
    "X_train_tensor = torch.tensor(X_train, dtype=torch.float32)\n",
    "y_train_tensor = torch.tensor(y_train, dtype=torch.long)\n",
    "X_test_tensor = torch.tensor(X_test, dtype=torch.float32)\n",
    "y_test_tensor = torch.tensor(y_test, dtype=torch.long)\n"
   ]
  },
  {
   "cell_type": "code",
   "execution_count": 6,
   "id": "7e7a335b",
   "metadata": {},
   "outputs": [],
   "source": [
    "# DataLoader 생성\n",
    "train_loader = DataLoader(TensorDataset(X_train_tensor, y_train_tensor), batch_size=32, shuffle=True)\n",
    "test_loader = DataLoader(TensorDataset(X_test_tensor, y_test_tensor), batch_size=32)\n"
   ]
  },
  {
   "cell_type": "code",
   "execution_count": 13,
   "id": "4e9d063b",
   "metadata": {},
   "outputs": [],
   "source": [
    "# MLP 모델 정의\n",
    "class DNN(nn.Module):\n",
    "    def __init__(self):\n",
    "        super().__init__()\n",
    "        self.net = nn.Sequential(\n",
    "            nn.Linear(64, 128),\n",
    "            nn.ReLU(),\n",
    "            nn.Linear(128, 64),\n",
    "            nn.ReLU(),\n",
    "            nn.Linear(64, 10)\n",
    "        )\n",
    "    \n",
    "    def forward(self, x):\n",
    "        return self.net(x)\n",
    "\n",
    "model = DNN()\n",
    "\n",
    "# 학습 설정\n",
    "criterion = nn.CrossEntropyLoss()\n",
    "optimizer = optim.Adam(model.parameters(), lr=0.001)\n"
   ]
  },
  {
   "cell_type": "code",
   "execution_count": 14,
   "id": "f07bf45d",
   "metadata": {},
   "outputs": [
    {
     "name": "stdout",
     "output_type": "stream",
     "text": [
      "[DNN] Epoch  1 | Loss: 1.8485 | Accuracy: 0.6026\n",
      "[DNN] Epoch  2 | Loss: 0.6094 | Accuracy: 0.8796\n",
      "[DNN] Epoch  3 | Loss: 0.2320 | Accuracy: 0.9457\n",
      "[DNN] Epoch  4 | Loss: 0.1319 | Accuracy: 0.9722\n",
      "[DNN] Epoch  5 | Loss: 0.0872 | Accuracy: 0.9826\n",
      "[DNN] Epoch  6 | Loss: 0.0605 | Accuracy: 0.9896\n",
      "[DNN] Epoch  7 | Loss: 0.0443 | Accuracy: 0.9944\n",
      "[DNN] Epoch  8 | Loss: 0.0333 | Accuracy: 0.9958\n",
      "[DNN] Epoch  9 | Loss: 0.0251 | Accuracy: 0.9972\n",
      "[DNN] Epoch 10 | Loss: 0.0203 | Accuracy: 0.9972\n",
      "[DNN] Epoch 11 | Loss: 0.0159 | Accuracy: 0.9986\n",
      "[DNN] Epoch 12 | Loss: 0.0122 | Accuracy: 1.0000\n",
      "[DNN] Epoch 13 | Loss: 0.0104 | Accuracy: 1.0000\n",
      "[DNN] Epoch 14 | Loss: 0.0084 | Accuracy: 1.0000\n",
      "[DNN] Epoch 15 | Loss: 0.0069 | Accuracy: 1.0000\n",
      "[DNN] Epoch 16 | Loss: 0.0058 | Accuracy: 1.0000\n",
      "[DNN] Epoch 17 | Loss: 0.0049 | Accuracy: 1.0000\n",
      "[DNN] Epoch 18 | Loss: 0.0043 | Accuracy: 1.0000\n",
      "[DNN] Epoch 19 | Loss: 0.0037 | Accuracy: 1.0000\n",
      "[DNN] Epoch 20 | Loss: 0.0033 | Accuracy: 1.0000\n"
     ]
    }
   ],
   "source": [
    "# 학습\n",
    "\n",
    "from sklearn.metrics import f1_score\n",
    "import torch.nn.functional as F\n",
    "\n",
    "# 학습 루프\n",
    "for epoch in range(20):\n",
    "    model.train()\n",
    "    running_loss = 0.0\n",
    "    correct = 0\n",
    "    total = 0\n",
    "\n",
    "    for X_batch, y_batch in train_loader:\n",
    "        optimizer.zero_grad()\n",
    "        outputs = model(X_batch)\n",
    "        loss = criterion(outputs, y_batch)\n",
    "        loss.backward()\n",
    "        optimizer.step()\n",
    "\n",
    "        running_loss += loss.item() * X_batch.size(0)\n",
    "        preds = torch.argmax(outputs, dim=1)\n",
    "        correct += (preds == y_batch).sum().item()\n",
    "        total += y_batch.size(0)\n",
    "\n",
    "    epoch_loss = running_loss / total\n",
    "    epoch_acc = correct / total\n",
    "    print(f\"[DNN] Epoch {epoch+1:2d} | Loss: {epoch_loss:.4f} | Accuracy: {epoch_acc:.4f}\")\n"
   ]
  },
  {
   "cell_type": "code",
   "execution_count": null,
   "id": "df53ebea",
   "metadata": {},
   "outputs": [
    {
     "name": "stdout",
     "output_type": "stream",
     "text": [
      "\n",
      "[DNN] 최종 평가\n",
      " - Loss     : 0.0884\n",
      " - Accuracy : 0.9750\n",
      " - F1-score : 0.9746\n"
     ]
    }
   ],
   "source": [
    "# 평가\n",
    "model.eval()\n",
    "test_loss = 0.0\n",
    "correct = 0\n",
    "total = 0\n",
    "all_preds = []\n",
    "all_labels = []\n",
    "\n",
    "with torch.no_grad():\n",
    "    for X_batch, y_batch in test_loader:\n",
    "        outputs = model(X_batch)\n",
    "        loss = criterion(outputs, y_batch)\n",
    "        test_loss += loss.item() * X_batch.size(0)\n",
    "\n",
    "        preds = torch.argmax(outputs, dim=1)\n",
    "        correct += (preds == y_batch).sum().item()\n",
    "        total += y_batch.size(0)\n",
    "\n",
    "        all_preds.extend(preds.tolist())\n",
    "        all_labels.extend(y_batch.tolist())\n",
    "\n",
    "test_loss /= total\n",
    "test_acc = correct / total\n",
    "test_f1 = f1_score(all_labels, all_preds, average='macro')  # 다중 분류에서 macro 평균\n",
    "\n",
    "print(f\"\\n[DNN] 최종 평가\")\n",
    "print(f\" - Loss     : {test_loss:.4f}\")\n",
    "print(f\" - Accuracy : {test_acc:.4f}\")\n",
    "print(f\" - F1-score : {test_f1:.4f}\")"
   ]
  },
  {
   "cell_type": "code",
   "execution_count": 30,
   "id": "d5823215",
   "metadata": {},
   "outputs": [
    {
     "data": {
      "image/png": "[encoded data removed]",
      "text/plain": [
       "<Figure size 640x480 with 2 Axes>"
      ]
     },
     "metadata": {},
     "output_type": "display_data"
    },
    {
     "data": {
      "image/png": "[encoded data removed]",
      "text/plain": [
       "<Figure size 900x900 with 4 Axes>"
      ]
     },
     "metadata": {},
     "output_type": "display_data"
    }
   ],
   "source": [
    "# 외전. confusion_matrix 출력, 잘못 분류된 샘플 시각화\n",
    "\n",
    "import matplotlib.pyplot as plt\n",
    "from sklearn.metrics import confusion_matrix, ConfusionMatrixDisplay\n",
    "\n",
    "# confusion matrix 출력\n",
    "cm = confusion_matrix(all_labels, all_preds)\n",
    "disp = ConfusionMatrixDisplay(confusion_matrix=cm, display_labels=range(10))\n",
    "disp.plot(cmap='Blues', values_format='d')\n",
    "plt.title(\"[DNN] Confusion Matrix\")\n",
    "plt.show()\n",
    "\n",
    "# 잘못 분류된 샘플 시각화\n",
    "wrong_idx = [i for i, (p, t) in enumerate(zip(all_preds, all_labels)) if p != t]\n",
    "\n",
    "if wrong_idx:\n",
    "    plt.figure(figsize=(9, 9))\n",
    "    for i, idx in enumerate(wrong_idx[:9]):  # 앞에서 9개만 시각화\n",
    "        img = X_test[idx].reshape(8, 8)\n",
    "        pred = all_preds[idx]\n",
    "        true = all_labels[idx]\n",
    "\n",
    "        plt.subplot(3, 3, i + 1)\n",
    "        plt.imshow(img, cmap='gray_r', interpolation='nearest')\n",
    "        plt.title(f\"Pred: {pred}, True: {true}\")\n",
    "        plt.axis('off')\n",
    "\n",
    "    plt.suptitle(\"[DNN] Misclassified Samples\")\n",
    "    plt.tight_layout()\n",
    "    plt.show()\n",
    "else:\n",
    "    print(\"[DNN] 모든 샘플이 정확히 분류되었습니다.\")"
   ]
  },
  {
   "cell_type": "markdown",
   "id": "4a268b3d",
   "metadata": {},
   "source": [
    "#### 외전. CNN으로 해보기"
   ]
  },
  {
   "cell_type": "code",
   "execution_count": 19,
   "id": "d295a02f",
   "metadata": {},
   "outputs": [],
   "source": [
    "import torch\n",
    "import torch.nn as nn\n",
    "import torch.optim as optim\n",
    "from sklearn import datasets\n",
    "from sklearn.model_selection import train_test_split\n",
    "from sklearn.preprocessing import MinMaxScaler\n",
    "from torch.utils.data import DataLoader, TensorDataset"
   ]
  },
  {
   "cell_type": "code",
   "execution_count": 20,
   "id": "2b195680",
   "metadata": {},
   "outputs": [],
   "source": [
    "# 데이터 로드\n",
    "digits = datasets.load_digits()\n",
    "X = digits.images  # (1797, 8, 8)\n",
    "y = digits.target"
   ]
  },
  {
   "cell_type": "code",
   "execution_count": 21,
   "id": "41fdbd88",
   "metadata": {},
   "outputs": [],
   "source": [
    "# 정규화: 0~1 범위로 맞추기\n",
    "X = X / 16.0  # 픽셀 값은 원래 0~16\n",
    "X = X.reshape(-1, 1, 8, 8)  # Conv2d 입력 형식: (batch_size, channels, height, width)\n"
   ]
  },
  {
   "cell_type": "code",
   "execution_count": 22,
   "id": "268ab218",
   "metadata": {},
   "outputs": [],
   "source": [
    "# train/test 분리\n",
    "X_train, X_test, y_train, y_test = train_test_split(X, y, test_size=0.2, random_state=42)\n",
    "\n",
    "# Tensor로 변환\n",
    "X_train_tensor = torch.tensor(X_train, dtype=torch.float32)\n",
    "y_train_tensor = torch.tensor(y_train, dtype=torch.long)\n",
    "X_test_tensor = torch.tensor(X_test, dtype=torch.float32)\n",
    "y_test_tensor = torch.tensor(y_test, dtype=torch.long)\n"
   ]
  },
  {
   "cell_type": "code",
   "execution_count": 26,
   "id": "490dc469",
   "metadata": {},
   "outputs": [],
   "source": [
    "# DataLoader\n",
    "train_loader = DataLoader(TensorDataset(X_train_tensor, y_train_tensor), batch_size=32, shuffle=True)\n",
    "test_loader = DataLoader(TensorDataset(X_test_tensor, y_test_tensor), batch_size=32)\n"
   ]
  },
  {
   "cell_type": "code",
   "execution_count": 27,
   "id": "373e35d0",
   "metadata": {},
   "outputs": [],
   "source": [
    "# CNN 모델 정의\n",
    "class CNN(nn.Module):\n",
    "    def __init__(self):\n",
    "        super().__init__()\n",
    "        self.conv_layer = nn.Sequential(\n",
    "            nn.Conv2d(1, 16, kernel_size=3, padding=1),  # (16, 8, 8)\n",
    "            nn.ReLU(),\n",
    "            nn.MaxPool2d(2, 2),  # (16, 4, 4)\n",
    "            nn.Conv2d(16, 32, kernel_size=3, padding=1),  # (32, 4, 4)\n",
    "            nn.ReLU(),\n",
    "            nn.MaxPool2d(2, 2)  # (32, 2, 2)\n",
    "        )\n",
    "        self.fc_layer = nn.Sequential(\n",
    "            nn.Linear(32 * 2 * 2, 64),\n",
    "            nn.ReLU(),\n",
    "            nn.Linear(64, 10)\n",
    "        )\n",
    "\n",
    "    def forward(self, x):\n",
    "        x = self.conv_layer(x)\n",
    "        x = x.view(x.size(0), -1)  # flatten\n",
    "        x = self.fc_layer(x)\n",
    "        return x\n",
    "\n",
    "model = CNN()\n",
    "criterion = nn.CrossEntropyLoss()\n",
    "optimizer = optim.Adam(model.parameters(), lr=0.001)\n"
   ]
  },
  {
   "cell_type": "code",
   "execution_count": 28,
   "id": "dfdcd46a",
   "metadata": {},
   "outputs": [
    {
     "name": "stdout",
     "output_type": "stream",
     "text": [
      "[CNN] Epoch  1 | Loss: 2.2411 | Accuracy: 0.2797\n",
      "[CNN] Epoch  2 | Loss: 1.7014 | Accuracy: 0.6945\n",
      "[CNN] Epoch  3 | Loss: 0.7809 | Accuracy: 0.8483\n",
      "[CNN] Epoch  4 | Loss: 0.4403 | Accuracy: 0.8831\n",
      "[CNN] Epoch  5 | Loss: 0.3170 | Accuracy: 0.9130\n",
      "[CNN] Epoch  6 | Loss: 0.2325 | Accuracy: 0.9402\n",
      "[CNN] Epoch  7 | Loss: 0.1946 | Accuracy: 0.9464\n",
      "[CNN] Epoch  8 | Loss: 0.1690 | Accuracy: 0.9506\n",
      "[CNN] Epoch  9 | Loss: 0.1468 | Accuracy: 0.9596\n",
      "[CNN] Epoch 10 | Loss: 0.1261 | Accuracy: 0.9617\n",
      "[CNN] Epoch 11 | Loss: 0.1181 | Accuracy: 0.9638\n",
      "[CNN] Epoch 12 | Loss: 0.1026 | Accuracy: 0.9694\n",
      "[CNN] Epoch 13 | Loss: 0.0918 | Accuracy: 0.9722\n",
      "[CNN] Epoch 14 | Loss: 0.0822 | Accuracy: 0.9784\n",
      "[CNN] Epoch 15 | Loss: 0.0686 | Accuracy: 0.9805\n",
      "[CNN] Epoch 16 | Loss: 0.0650 | Accuracy: 0.9833\n",
      "[CNN] Epoch 17 | Loss: 0.0573 | Accuracy: 0.9868\n",
      "[CNN] Epoch 18 | Loss: 0.0658 | Accuracy: 0.9819\n",
      "[CNN] Epoch 19 | Loss: 0.0495 | Accuracy: 0.9875\n",
      "[CNN] Epoch 20 | Loss: 0.0449 | Accuracy: 0.9910\n"
     ]
    }
   ],
   "source": [
    "# 학습\n",
    "for epoch in range(20):\n",
    "    model.train()\n",
    "    running_loss = 0.0\n",
    "    correct = 0\n",
    "    total = 0\n",
    "\n",
    "    for X_batch, y_batch in train_loader:\n",
    "        optimizer.zero_grad()\n",
    "        outputs = model(X_batch)\n",
    "        loss = criterion(outputs, y_batch)\n",
    "        loss.backward()\n",
    "        optimizer.step()\n",
    "\n",
    "        running_loss += loss.item() * X_batch.size(0)\n",
    "        preds = torch.argmax(outputs, dim=1)\n",
    "        correct += (preds == y_batch).sum().item()\n",
    "        total += y_batch.size(0)\n",
    "\n",
    "    epoch_loss = running_loss / total\n",
    "    epoch_acc = correct / total\n",
    "    print(f\"[CNN] Epoch {epoch+1:2d} | Loss: {epoch_loss:.4f} | Accuracy: {epoch_acc:.4f}\")\n"
   ]
  },
  {
   "cell_type": "code",
   "execution_count": 29,
   "id": "0f7c05fc",
   "metadata": {},
   "outputs": [
    {
     "name": "stdout",
     "output_type": "stream",
     "text": [
      "\n",
      "[CNN] 최종 평가\n",
      " - Loss     : 0.0522\n",
      " - Accuracy : 0.9889\n",
      " - F1-score : 0.9886\n"
     ]
    }
   ],
   "source": [
    "# 평가\n",
    "model.eval()\n",
    "test_loss = 0.0\n",
    "correct = 0\n",
    "total = 0\n",
    "all_preds = []\n",
    "all_labels = []\n",
    "\n",
    "with torch.no_grad():\n",
    "    for X_batch, y_batch in test_loader:\n",
    "        outputs = model(X_batch)\n",
    "        loss = criterion(outputs, y_batch)\n",
    "        test_loss += loss.item() * X_batch.size(0)\n",
    "\n",
    "        preds = torch.argmax(outputs, dim=1)\n",
    "        correct += (preds == y_batch).sum().item()\n",
    "        total += y_batch.size(0)\n",
    "\n",
    "        all_preds.extend(preds.cpu().numpy())\n",
    "        all_labels.extend(y_batch.cpu().numpy())\n",
    "\n",
    "test_loss /= total\n",
    "test_acc = correct / total\n",
    "test_f1 = f1_score(all_labels, all_preds, average='macro')\n",
    "\n",
    "print(f\"\\n[CNN] 최종 평가\")\n",
    "print(f\" - Loss     : {test_loss:.4f}\")\n",
    "print(f\" - Accuracy : {test_acc:.4f}\")\n",
    "print(f\" - F1-score : {test_f1:.4f}\")"
   ]
  },
  {
   "cell_type": "code",
   "execution_count": 33,
   "id": "a9ddda33",
   "metadata": {},
   "outputs": [
    {
     "data": {
      "image/png": "[encoded data removed]",
      "text/plain": [
       "<Figure size 640x480 with 2 Axes>"
      ]
     },
     "metadata": {},
     "output_type": "display_data"
    },
    {
     "data": {
      "image/png": "[encoded data removed]",
      "text/plain": [
       "<Figure size 900x900 with 4 Axes>"
      ]
     },
     "metadata": {},
     "output_type": "display_data"
    }
   ],
   "source": [
    "# 외전. confusion_matrix 출력, 잘못 분류된 샘플 시각화\n",
    "\n",
    "# confusion matrix 출력\n",
    "cm = confusion_matrix(all_labels, all_preds)\n",
    "disp = ConfusionMatrixDisplay(confusion_matrix=cm, display_labels=range(10))\n",
    "disp.plot(cmap='Blues', values_format='d')\n",
    "plt.title(\"[CNN] Confusion Matrix\")\n",
    "plt.show()\n",
    "\n",
    "# 잘못 분류된 샘플 시각화\n",
    "wrong_idx = [i for i, (p, t) in enumerate(zip(all_preds, all_labels)) if p != t]\n",
    "\n",
    "if wrong_idx:\n",
    "    plt.figure(figsize=(9, 9))\n",
    "    for i, idx in enumerate(wrong_idx[:9]):  # 앞에서 9개만 시각화\n",
    "        # CNN용 이미지는 (1, 8, 8) → (8, 8)로 변환 필요\n",
    "        img = X_test[idx].squeeze()\n",
    "\n",
    "        pred = all_preds[idx]\n",
    "        true = all_labels[idx]\n",
    "\n",
    "        plt.subplot(3, 3, i + 1)\n",
    "        plt.imshow(img, cmap='gray_r', interpolation='nearest')\n",
    "        plt.title(f\"Pred: {pred}, True: {true}\")\n",
    "        plt.axis('off')\n",
    "\n",
    "    plt.suptitle(\"[CNN] Misclassified Samples\")\n",
    "    plt.tight_layout()\n",
    "    plt.show()\n",
    "else:\n",
    "    print(\"[CNN] 모든 샘플이 정확히 분류되었습니다.\")"
   ]
  }
 ],
 "metadata": {
  "kernelspec": {
   "display_name": "2025AI",
   "language": "python",
   "name": "python3"
  },
  "language_info": {
   "codemirror_mode": {
    "name": "ipython",
    "version": 3
   },
   "file_extension": ".py",
   "mimetype": "text/x-python",
   "name": "python",
   "nbconvert_exporter": "python",
   "pygments_lexer": "ipython3",
   "version": "3.12.8"
  }
 },
 "nbformat": 4,
 "nbformat_minor": 5
}
