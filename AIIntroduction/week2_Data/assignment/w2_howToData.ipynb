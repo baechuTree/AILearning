{
 "cells": [
  {
   "cell_type": "markdown",
   "metadata": {},
   "source": [
    "### 데이터를 가져오고 인코딩하기"
   ]
  },
  {
   "cell_type": "markdown",
   "metadata": {},
   "source": [
    "#### <데이터 가져오기>"
   ]
  },
  {
   "cell_type": "code",
   "execution_count": 2,
   "metadata": {},
   "outputs": [
    {
     "name": "stdout",
     "output_type": "stream",
     "text": [
      "   PassengerId  Survived  Pclass  \\\n",
      "0            1         0       3   \n",
      "1            2         1       1   \n",
      "2            3         1       3   \n",
      "3            4         1       1   \n",
      "4            5         0       3   \n",
      "\n",
      "                                                Name     Sex   Age  SibSp  \\\n",
      "0                            Braund, Mr. Owen Harris    male  22.0      1   \n",
      "1  Cumings, Mrs. John Bradley (Florence Briggs Th...  female  38.0      1   \n",
      "2                             Heikkinen, Miss. Laina  female  26.0      0   \n",
      "3       Futrelle, Mrs. Jacques Heath (Lily May Peel)  female  35.0      1   \n",
      "4                           Allen, Mr. William Henry    male  35.0      0   \n",
      "\n",
      "   Parch            Ticket     Fare Cabin Embarked  \n",
      "0      0         A/5 21171   7.2500   NaN        S  \n",
      "1      0          PC 17599  71.2833   C85        C  \n",
      "2      0  STON/O2. 3101282   7.9250   NaN        S  \n",
      "3      0            113803  53.1000  C123        S  \n",
      "4      0            373450   8.0500   NaN        S  \n",
      "---------------\n",
      "   Num.  subject_ID Sex(M/F)  Age(year)  Height(cm)  Weight(kg)  \\\n",
      "0     1           2   Female         45         152          63   \n",
      "1     1           2   Female         45         152          63   \n",
      "2     1           2   Female         45         152          63   \n",
      "3     2           3   Female         50         157          50   \n",
      "4     2           3   Female         50         157          50   \n",
      "\n",
      "   Systolic Blood Pressure(mmHg)  Diastolic Blood Pressure(mmHg)  \\\n",
      "0                            161                              89   \n",
      "1                            161                              89   \n",
      "2                            161                              89   \n",
      "3                            160                              93   \n",
      "4                            160                              93   \n",
      "\n",
      "   Heart Rate(b/m)  BMI(kg/m^2)  ...  2091  2092  2093  2094  2095  2096  \\\n",
      "0               97    27.268006  ...  1766  1766  1766  1833  1833  1827   \n",
      "1               97    27.268006  ...  1985  1985  2026  2026  2026  1977   \n",
      "2               97    27.268006  ...  1942  1900  1900  1938  1938  1938   \n",
      "3               76    20.284799  ...  2073  2072  2072  2072  2051  2051   \n",
      "4               76    20.284799  ...  2021  2010  2010  2010  2001  2001   \n",
      "\n",
      "   2097  2098  2099  2100  \n",
      "0  1827  1827  1754  1754  \n",
      "1  1977  1997  1997  1997  \n",
      "2  1924  1924  1929  1929  \n",
      "3  2036  2036  2036  2045  \n",
      "4  2003  2003  2003  1989  \n",
      "\n",
      "[5 rows x 2114 columns]\n"
     ]
    }
   ],
   "source": [
    "# 1. 인터넷 링크에서 데이터 가져오기\n",
    "\n",
    "import pandas as pd\n",
    "\n",
    "# CSV 파일 읽기\n",
    "url = \"https://github.com/MyungKyuYi/AI-class/raw/main/titanic.csv\"  # 원본 데이터 경로\n",
    "df = pd.read_csv(url)\n",
    "\n",
    "# XLSX 파일 읽기\n",
    "url_xlsx = \"https://github.com/MyungKyuYi/AI-class/raw/main/combined_dataset-1.xlsx\"\n",
    "df_xlsx = pd.read_excel(url_xlsx, engine=\"openpyxl\")\n",
    "    # engine=\"openpyxl\": 읽기 엔진을 openpyxl로 설정. 최신 파이썬은 엑셀 파일을 지원하지 않으므로 엔진을 넣어주어야 함\n",
    "\n",
    "print(df.head())  # 데이터 미리보기\n",
    "print(\"---------------\")\n",
    "print(df_xlsx.head())"
   ]
  },
  {
   "cell_type": "code",
   "execution_count": 3,
   "metadata": {},
   "outputs": [
    {
     "name": "stdout",
     "output_type": "stream",
     "text": [
      "   PassengerId  Survived  Pclass  \\\n",
      "0            1         0       3   \n",
      "1            2         1       1   \n",
      "2            3         1       3   \n",
      "3            4         1       1   \n",
      "4            5         0       3   \n",
      "\n",
      "                                                Name     Sex   Age  SibSp  \\\n",
      "0                            Braund, Mr. Owen Harris    male  22.0      1   \n",
      "1  Cumings, Mrs. John Bradley (Florence Briggs Th...  female  38.0      1   \n",
      "2                             Heikkinen, Miss. Laina  female  26.0      0   \n",
      "3       Futrelle, Mrs. Jacques Heath (Lily May Peel)  female  35.0      1   \n",
      "4                           Allen, Mr. William Henry    male  35.0      0   \n",
      "\n",
      "   Parch            Ticket     Fare Cabin Embarked  \n",
      "0      0         A/5 21171   7.2500   NaN        S  \n",
      "1      0          PC 17599  71.2833   C85        C  \n",
      "2      0  STON/O2. 3101282   7.9250   NaN        S  \n",
      "3      0            113803  53.1000  C123        S  \n",
      "4      0            373450   8.0500   NaN        S  \n",
      "---------------\n",
      "   Num.  subject_ID Sex(M/F)  Age(year)  Height(cm)  Weight(kg)  \\\n",
      "0     1           2   Female         45         152          63   \n",
      "1     1           2   Female         45         152          63   \n",
      "2     1           2   Female         45         152          63   \n",
      "3     2           3   Female         50         157          50   \n",
      "4     2           3   Female         50         157          50   \n",
      "\n",
      "   Systolic Blood Pressure(mmHg)  Diastolic Blood Pressure(mmHg)  \\\n",
      "0                            161                              89   \n",
      "1                            161                              89   \n",
      "2                            161                              89   \n",
      "3                            160                              93   \n",
      "4                            160                              93   \n",
      "\n",
      "   Heart Rate(b/m)  BMI(kg/m^2)  ...  2091  2092  2093  2094  2095  2096  \\\n",
      "0               97    27.268006  ...  1766  1766  1766  1833  1833  1827   \n",
      "1               97    27.268006  ...  1985  1985  2026  2026  2026  1977   \n",
      "2               97    27.268006  ...  1942  1900  1900  1938  1938  1938   \n",
      "3               76    20.284799  ...  2073  2072  2072  2072  2051  2051   \n",
      "4               76    20.284799  ...  2021  2010  2010  2010  2001  2001   \n",
      "\n",
      "   2097  2098  2099  2100  \n",
      "0  1827  1827  1754  1754  \n",
      "1  1977  1997  1997  1997  \n",
      "2  1924  1924  1929  1929  \n",
      "3  2036  2036  2036  2045  \n",
      "4  2003  2003  2003  1989  \n",
      "\n",
      "[5 rows x 2114 columns]\n"
     ]
    }
   ],
   "source": [
    "# 2. 로컬 파일에서 데이터 가져오기\n",
    "\n",
    "import pandas as pd\n",
    "\n",
    "# CSV 파일 읽기\n",
    "df_local = pd.read_csv(\"../titanic.csv\")\n",
    "\n",
    "# XLSX 파일 읽기\n",
    "df_local_xlsx = pd.read_excel(\"../combined_dataset-1.xlsx\", engine=\"openpyxl\")\n",
    "\n",
    "print(df_local.head())  # 데이터 확인\n",
    "print(\"---------------\")\n",
    "print(df_local_xlsx.head())"
   ]
  },
  {
   "cell_type": "code",
   "execution_count": 4,
   "metadata": {},
   "outputs": [
    {
     "name": "stdout",
     "output_type": "stream",
     "text": [
      "   alcohol  malic_acid   ash  alcalinity_of_ash  magnesium  total_phenols  \\\n",
      "0    14.23        1.71  2.43               15.6      127.0           2.80   \n",
      "1    13.20        1.78  2.14               11.2      100.0           2.65   \n",
      "2    13.16        2.36  2.67               18.6      101.0           2.80   \n",
      "3    14.37        1.95  2.50               16.8      113.0           3.85   \n",
      "4    13.24        2.59  2.87               21.0      118.0           2.80   \n",
      "\n",
      "   flavanoids  nonflavanoid_phenols  proanthocyanins  color_intensity   hue  \\\n",
      "0        3.06                  0.28             2.29             5.64  1.04   \n",
      "1        2.76                  0.26             1.28             4.38  1.05   \n",
      "2        3.24                  0.30             2.81             5.68  1.03   \n",
      "3        3.49                  0.24             2.18             7.80  0.86   \n",
      "4        2.69                  0.39             1.82             4.32  1.04   \n",
      "\n",
      "   od280/od315_of_diluted_wines  proline  target  \n",
      "0                          3.92   1065.0       0  \n",
      "1                          3.40   1050.0       0  \n",
      "2                          3.17   1185.0       0  \n",
      "3                          3.45   1480.0       0  \n",
      "4                          2.93    735.0       0  \n"
     ]
    }
   ],
   "source": [
    "# 3. sklearn.datasets 라이브러리 에서 가져오기(여기서는 와인 데이터를 가져옴)\n",
    "\n",
    "from sklearn import datasets\n",
    "import pandas as pd\n",
    "\n",
    "wine = datasets.load_wine()\n",
    "df_wine = pd.DataFrame(wine.data, columns=wine.feature_names)\n",
    "df_wine[\"target\"] = wine.target\n",
    "\n",
    "print(df_wine.head())"
   ]
  },
  {
   "cell_type": "code",
   "execution_count": 5,
   "metadata": {},
   "outputs": [
    {
     "name": "stdout",
     "output_type": "stream",
     "text": [
      "   feature_0  feature_1  feature_2  feature_3  feature_4  feature_5  \\\n",
      "0  -0.669356  -1.495778  -0.870766   1.141831   0.021606   1.730630   \n",
      "1   0.093372   0.785848   0.105754   1.272354  -0.846316  -0.979093   \n",
      "2  -0.905797  -0.608341   0.295141   0.943716   0.092936   1.370397   \n",
      "3  -0.585793   0.389279   0.698816   0.436236  -0.315082   0.459505   \n",
      "4   1.146441   0.515579  -1.222895  -0.396230  -1.293508  -0.352428   \n",
      "\n",
      "   feature_6  feature_7  feature_8  feature_9  ...  feature_11  feature_12  \\\n",
      "0  -1.251698   0.289305   0.357163  -0.196811  ...    0.154850   -0.219970   \n",
      "1   1.263707   0.264020   2.411677  -0.960046  ...    0.199810    0.288724   \n",
      "2  -0.064772   0.287273  -0.533004  -0.032504  ...   -0.510064   -0.868768   \n",
      "3   1.448820   0.505558  -1.440982  -1.134020  ...    1.466783    0.678728   \n",
      "4   0.071254   1.239584   1.007133  -1.479444  ...   -0.918127    0.604121   \n",
      "\n",
      "   feature_13  feature_14  feature_15  feature_16  feature_17  feature_18  \\\n",
      "0   -0.739137    1.802012    1.634606   -0.938180   -1.267337   -1.276334   \n",
      "1    0.732492   -0.872002   -1.654887   -1.130204   -0.122709    0.693431   \n",
      "2   -0.598279    0.019832    0.613460   -1.779439    0.830498   -0.737332   \n",
      "3   -1.190917   -1.442381   -0.929136   -0.221600   -0.346772    0.034246   \n",
      "4    1.068379   -0.882271    2.303639   -0.973379    1.259233    0.360015   \n",
      "\n",
      "   feature_19  target  \n",
      "0    1.016643       1  \n",
      "1    0.911363       0  \n",
      "2   -0.578212       1  \n",
      "3   -1.040199       1  \n",
      "4    1.920368       0  \n",
      "\n",
      "[5 rows x 21 columns]\n"
     ]
    }
   ],
   "source": [
    "# 외전. 가짜 데이터 직접 생성\n",
    "\n",
    "from sklearn.datasets import make_classification\n",
    "\n",
    "X, y = make_classification(n_samples=1000, n_features=20, n_classes=2, random_state=42)\n",
    "    # 샘플 데이터 생성 (1000개 샘플, 20개의 특성)\n",
    "\n",
    "df_classification = pd.DataFrame(X, columns=[f\"feature_{i}\" for i in range(20)])\n",
    "df_classification[\"target\"] = y\n",
    "\n",
    "print(df_classification.head())"
   ]
  },
  {
   "cell_type": "markdown",
   "metadata": {},
   "source": [
    "#### <데이터 인코딩>\n",
    "아래 예제에서는 df_local의 Embarked를 인코딩함. 각 인코딩을 실행하기 전에 위의 [2. 로컬 파일에서 데이터 가져오기]를 실행할 것."
   ]
  },
  {
   "cell_type": "code",
   "execution_count": 3,
   "metadata": {},
   "outputs": [
    {
     "name": "stdout",
     "output_type": "stream",
     "text": [
      "0    2\n",
      "1    0\n",
      "2    2\n",
      "3    2\n",
      "4    2\n",
      "Name: Embarked, dtype: int64\n"
     ]
    }
   ],
   "source": [
    "# 1. Label 인코딩: 각각의 값마다다 숫자 할당\n",
    "\n",
    "from sklearn.preprocessing import LabelEncoder\n",
    "\n",
    "le = LabelEncoder()\n",
    "df_local[\"Embarked\"] = le.fit_transform(df_local[\"Embarked\"])  # 'Sex' 컬럼을 숫자로 변환\n",
    "    # C, Q, S 셋 중 하나는 0, 하나는 1, 하나는 2가 될 것\n",
    "\n",
    "print(df_local[\"Embarked\"].head())  # 변환된 값 출력"
   ]
  },
  {
   "cell_type": "code",
   "execution_count": null,
   "metadata": {},
   "outputs": [
    {
     "name": "stdout",
     "output_type": "stream",
     "text": [
      "   PassengerId  Survived  Pclass  \\\n",
      "0            1         0       3   \n",
      "1            2         1       1   \n",
      "2            3         1       3   \n",
      "3            4         1       1   \n",
      "4            5         0       3   \n",
      "\n",
      "                                                Name     Sex   Age  SibSp  \\\n",
      "0                            Braund, Mr. Owen Harris    male  22.0      1   \n",
      "1  Cumings, Mrs. John Bradley (Florence Briggs Th...  female  38.0      1   \n",
      "2                             Heikkinen, Miss. Laina  female  26.0      0   \n",
      "3       Futrelle, Mrs. Jacques Heath (Lily May Peel)  female  35.0      1   \n",
      "4                           Allen, Mr. William Henry    male  35.0      0   \n",
      "\n",
      "   Parch            Ticket     Fare Cabin  Embarked_C  Embarked_Q  Embarked_S  \n",
      "0      0         A/5 21171   7.2500   NaN       False       False        True  \n",
      "1      0          PC 17599  71.2833   C85        True       False       False  \n",
      "2      0  STON/O2. 3101282   7.9250   NaN       False       False        True  \n",
      "3      0            113803  53.1000  C123       False       False        True  \n",
      "4      0            373450   8.0500   NaN       False       False        True  \n"
     ]
    }
   ],
   "source": [
    "# 2. One-Hot 인코딩: 각각의 값마다 열(속성)을 새로 만듦. 각 속성은 true, false값을 가짐.\n",
    "df_local = pd.get_dummies(df_local, columns=[\"Embarked\"])  # 'Embarked' 컬럼을 원-핫 인코딩\n",
    "    # Embarked_C  Embarked_Q  Embarked_S 세 개 속성(열)이 추가로 생김\n",
    "print(df_local.head())"
   ]
  },
  {
   "cell_type": "code",
   "execution_count": 23,
   "metadata": {},
   "outputs": [
    {
     "name": "stdout",
     "output_type": "stream",
     "text": [
      "0    2.0\n",
      "1    0.0\n",
      "2    2.0\n",
      "3    2.0\n",
      "4    2.0\n",
      "Name: Embarked, dtype: float64\n"
     ]
    }
   ],
   "source": [
    "# 3. Ordinal(순서형) 인코딩: 값을 숫자로 바꿀 때, 넣을 숫자의 순서 지정 가능. 데이터에 순서가 있을 때 주로 사용.\n",
    "\n",
    "from sklearn.preprocessing import OrdinalEncoder\n",
    "\n",
    "ordinal_encoder = OrdinalEncoder(handle_unknown=\"use_encoded_value\", unknown_value=-1, categories=[[\"C\", \"Q\", \"S\"]])  # 순서 지정 가능\n",
    "    # 현재 Embarked 속성에 NaN(결측값)값이 있어서 추가 설정을 해야만 순서형 인코딩 가능\n",
    "    # handle_unknown=\"use_encoded_value\": 알 수 없는 값(NaN(결측값) 등)이 등장해도 변환을 계속함\n",
    "    # unknown_value=-1: NaN값을 -1로 인코딩\n",
    "df_local[\"Embarked\"] = ordinal_encoder.fit_transform(df_local[[\"Embarked\"]])\n",
    "\n",
    "print(df_local[\"Embarked\"].head())"
   ]
  },
  {
   "cell_type": "code",
   "execution_count": 4,
   "metadata": {},
   "outputs": [
    {
     "name": "stdout",
     "output_type": "stream",
     "text": [
      "      Sex  Sex_encoded\n",
      "0    male     0.188908\n",
      "1  female     0.742038\n",
      "2  female     0.742038\n",
      "3  female     0.742038\n",
      "4    male     0.188908\n"
     ]
    }
   ],
   "source": [
    "# 4. Target 인코딩: 카테고리를 해당 값의 평균 타겟 값으로 변환하는 방식.\n",
    "    # groupby(\"Sex\")[\"Survived\"] <= ()에 인코딩할 속성, []에 평균의 기준이 될 속성을 넣음\n",
    "    # 예를 들어 male인 사람들의 평균 Survived 값이 0.2이고, female인 사람들의 평균 Survived 값이 0.7이라면,\n",
    "    # 그 평균값이 인코딩된 값이 되는 것.\n",
    "    # 일반적인 인코딩 데이터와 달리 값이 의미를 가지기 때문에, 모델이 더 많은 의미를 배울 수 있음 but 과적합 위험 증가\n",
    "df_local[\"Sex_encoded\"] = df_local.groupby(\"Sex\")[\"Survived\"].transform(\"mean\")\n",
    "print(df_local[[\"Sex\", \"Sex_encoded\"]].head())"
   ]
  },
  {
   "cell_type": "markdown",
   "metadata": {},
   "source": [
    "#### <데이터 정보 확인하기(EDA)>\n",
    "EDA(탐색적 데이터 분석): 데이터를 시각화하고 통계 분석해 특징과 레이블의 전체적인 특성을 파악하는 것. **여기서 하는 것:** 특정 열 값 개수 확인"
   ]
  },
  {
   "cell_type": "code",
   "execution_count": null,
   "metadata": {},
   "outputs": [
    {
     "name": "stdout",
     "output_type": "stream",
     "text": [
      "Pclass\n",
      "3    491\n",
      "1    216\n",
      "2    184\n",
      "Name: count, dtype: int64\n"
     ]
    }
   ],
   "source": [
    "# 1. 특정 열의 값 개수 확인\n",
    "print(df['Pclass'].value_counts())\n",
    "    # value_counts(): 열의 각 값의 개수를 반환"
   ]
  }
 ],
 "metadata": {
  "kernelspec": {
   "display_name": "2025AI",
   "language": "python",
   "name": "python3"
  },
  "language_info": {
   "codemirror_mode": {
    "name": "ipython",
    "version": 3
   },
   "file_extension": ".py",
   "mimetype": "text/x-python",
   "name": "python",
   "nbconvert_exporter": "python",
   "pygments_lexer": "ipython3",
   "version": "3.12.8"
  }
 },
 "nbformat": 4,
 "nbformat_minor": 2
}
