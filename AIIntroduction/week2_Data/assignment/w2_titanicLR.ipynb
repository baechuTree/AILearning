{
 "cells": [
  {
   "cell_type": "markdown",
   "metadata": {},
   "source": [
    "### 데이터 전처리하기: 4. LR 모델에서\n",
    "전처리 과정은 w2_titanicDT.ipynb에 정리되어 있음!\n",
    "\n",
    "코드에 익숙해지도록 주석은 거의 뺌. 원본 주석도 위 파일에 있음!"
   ]
  },
  {
   "cell_type": "code",
   "execution_count": 15,
   "metadata": {},
   "outputs": [
    {
     "name": "stdout",
     "output_type": "stream",
     "text": [
      "PassengerId      0\n",
      "Survived         0\n",
      "Pclass           0\n",
      "Name             0\n",
      "Sex              0\n",
      "Age            177\n",
      "SibSp            0\n",
      "Parch            0\n",
      "Ticket           0\n",
      "Fare             0\n",
      "Cabin          687\n",
      "Embarked         2\n",
      "dtype: int64\n"
     ]
    }
   ],
   "source": [
    "# 1. 결측치 확인\n",
    "import pandas as pd\n",
    "\n",
    "df = pd.read_csv(\"../titanic.csv\")\n",
    "\n",
    "print(df.isnull().sum())"
   ]
  },
  {
   "cell_type": "code",
   "execution_count": 16,
   "metadata": {},
   "outputs": [
    {
     "name": "stdout",
     "output_type": "stream",
     "text": [
      "PassengerId    0\n",
      "Survived       0\n",
      "Pclass         0\n",
      "Name           0\n",
      "Sex            0\n",
      "Age            0\n",
      "SibSp          0\n",
      "Parch          0\n",
      "Ticket         0\n",
      "Fare           0\n",
      "Embarked       0\n",
      "dtype: int64\n"
     ]
    },
    {
     "name": "stderr",
     "output_type": "stream",
     "text": [
      "C:\\Users\\jt341\\AppData\\Local\\Temp\\ipykernel_21312\\788689256.py:5: FutureWarning: A value is trying to be set on a copy of a DataFrame or Series through chained assignment using an inplace method.\n",
      "The behavior will change in pandas 3.0. This inplace method will never work because the intermediate object on which we are setting values always behaves as a copy.\n",
      "\n",
      "For example, when doing 'df[col].method(value, inplace=True)', try using 'df.method({col: value}, inplace=True)' or df[col] = df[col].method(value) instead, to perform the operation inplace on the original object.\n",
      "\n",
      "\n",
      "  df['Embarked'].fillna(df['Embarked'].mode()[0], inplace=True)\n",
      "C:\\Users\\jt341\\AppData\\Local\\Temp\\ipykernel_21312\\788689256.py:7: FutureWarning: A value is trying to be set on a copy of a DataFrame or Series through chained assignment using an inplace method.\n",
      "The behavior will change in pandas 3.0. This inplace method will never work because the intermediate object on which we are setting values always behaves as a copy.\n",
      "\n",
      "For example, when doing 'df[col].method(value, inplace=True)', try using 'df.method({col: value}, inplace=True)' or df[col] = df[col].method(value) instead, to perform the operation inplace on the original object.\n",
      "\n",
      "\n",
      "  df['Age'].fillna(df['Age'].mean(), inplace=True)\n"
     ]
    }
   ],
   "source": [
    "# 2. 결측치 제거\n",
    "\n",
    "df.drop(columns=['Cabin'], inplace=True)\n",
    "\n",
    "df['Embarked'].fillna(df['Embarked'].mode()[0], inplace=True)\n",
    "\n",
    "df['Age'].fillna(df['Age'].mean(), inplace=True)\n",
    "\n",
    "print(df.isnull().sum())"
   ]
  },
  {
   "cell_type": "code",
   "execution_count": 17,
   "metadata": {},
   "outputs": [
    {
     "name": "stdout",
     "output_type": "stream",
     "text": [
      "Survived\n",
      "0    549\n",
      "1    342\n",
      "Name: count, dtype: int64\n"
     ]
    },
    {
     "data": {
      "image/png": "[encoded data removed]",
      "text/plain": [
       "<Figure size 640x480 with 1 Axes>"
      ]
     },
     "metadata": {},
     "output_type": "display_data"
    }
   ],
   "source": [
    "# 3. 레이블 불균형(imbalanced data) 확인\n",
    "\n",
    "print(df['Survived'].value_counts())\n",
    "\n",
    "# 시각화\n",
    "import seaborn as sns\n",
    "import matplotlib.pyplot as plt\n",
    "\n",
    "sns.countplot(x=df['Survived'])\n",
    "plt.title(\"Survival Count\")\n",
    "plt.show()"
   ]
  },
  {
   "cell_type": "code",
   "execution_count": 18,
   "metadata": {},
   "outputs": [
    {
     "name": "stdout",
     "output_type": "stream",
     "text": [
      "   Survived  Pclass     Sex   Age  SibSp  Parch     Fare Embarked\n",
      "0         0       3    male  22.0      1      0   7.2500        S\n",
      "1         1       1  female  38.0      1      0  71.2833        C\n",
      "2         1       3  female  26.0      0      0   7.9250        S\n",
      "3         1       1  female  35.0      1      0  53.1000        S\n",
      "4         0       3    male  35.0      0      0   8.0500        S\n"
     ]
    }
   ],
   "source": [
    "# 4. 노이즈 제거: 불필요한 컬럼(속성) 제거\n",
    "\n",
    "df_cleaned = df.drop(columns=['PassengerId', 'Name', 'Ticket'])\n",
    "\n",
    "print(df_cleaned.head())"
   ]
  },
  {
   "cell_type": "code",
   "execution_count": 19,
   "metadata": {},
   "outputs": [
    {
     "name": "stdout",
     "output_type": "stream",
     "text": [
      "Sex\n",
      "male      577\n",
      "female    314\n",
      "Name: count, dtype: int64\n",
      "Embarked\n",
      "S    646\n",
      "C    168\n",
      "Q     77\n",
      "Name: count, dtype: int64\n",
      "----[위: 변환 전, 아래: 변환 후]----\n",
      "Sex\n",
      "1    577\n",
      "0    314\n",
      "Name: count, dtype: int64\n",
      "Embarked\n",
      "2    646\n",
      "0    168\n",
      "1     77\n",
      "Name: count, dtype: int64\n",
      "   Survived  Pclass  Sex   Age  SibSp  Parch     Fare  Embarked\n",
      "0         0       3    1  22.0      1      0   7.2500         2\n",
      "1         1       1    0  38.0      1      0  71.2833         0\n",
      "2         1       3    0  26.0      0      0   7.9250         2\n",
      "3         1       1    0  35.0      1      0  53.1000         2\n",
      "4         0       3    1  35.0      0      0   8.0500         2\n"
     ]
    }
   ],
   "source": [
    "# 5. 인코딩(숫자가 아닌 데이터를 숫자로 변환)\n",
    "\n",
    "# **인코딩 전: 열의 각 값의 개수 확인\n",
    "print(df_cleaned['Sex'].value_counts())\n",
    "print(df_cleaned['Embarked'].value_counts())\n",
    "print(\"----[위: 변환 전, 아래: 변환 후]----\")\n",
    "\n",
    "\n",
    "# **인코딩: Label Encoding 방법 사용\n",
    "from sklearn.preprocessing import LabelEncoder\n",
    "\n",
    "encoder = LabelEncoder()\n",
    "df_cleaned['Sex'] = encoder.fit_transform(df_cleaned['Sex'])\n",
    "df_cleaned['Embarked'] = encoder.fit_transform(df_cleaned['Embarked'])\n",
    "\n",
    "print(df_cleaned['Sex'].value_counts())\n",
    "print(df_cleaned['Embarked'].value_counts())\n",
    "print(df_cleaned.head())"
   ]
  },
  {
   "cell_type": "code",
   "execution_count": 20,
   "metadata": {},
   "outputs": [
    {
     "name": "stdout",
     "output_type": "stream",
     "text": [
      "Survived\n",
      "0    549\n",
      "1    549\n",
      "Name: count, dtype: int64\n"
     ]
    }
   ],
   "source": [
    "# 외전. 레이블 불균형 해결하기(균형 맞추기)\n",
    "# SMOTE 외의 방법은 역시 w2_titanDT.ipynb에\n",
    "\n",
    "# 주의: 얘는 모든 데이터가 숫자일 때만 작동! 인코딩 먼저 해야 함.\n",
    "from imblearn.over_sampling import SMOTE\n",
    "\n",
    "X = df_cleaned.drop(columns=['Survived'])\n",
    "y = df_cleaned['Survived']\n",
    "\n",
    "smote = SMOTE(random_state=42)\n",
    "X_smote, y_smote = smote.fit_resample(X, y)\n",
    "\n",
    "print(y_smote.value_counts())"
   ]
  },
  {
   "cell_type": "code",
   "execution_count": 23,
   "metadata": {},
   "outputs": [
    {
     "name": "stdout",
     "output_type": "stream",
     "text": [
      "테스트 정확도: 0.84\n"
     ]
    },
    {
     "name": "stderr",
     "output_type": "stream",
     "text": [
      "c:\\Users\\jt341\\anaconda3\\envs\\2025AI\\Lib\\site-packages\\sklearn\\linear_model\\_logistic.py:1256: FutureWarning: 'multi_class' was deprecated in version 1.5 and will be removed in 1.7. Use OneVsRestClassifier(LogisticRegression(..)) instead. Leave it to its default value to avoid this warning.\n",
      "  warnings.warn(\n"
     ]
    }
   ],
   "source": [
    "# 6. 만든 데이터로 LR 모델 학습\n",
    "# 자세한 주석은 w1_irisLR.ipynb에서\n",
    "\n",
    "import matplotlib.pyplot as plt\n",
    "from sklearn.model_selection import train_test_split\n",
    "from sklearn.preprocessing import StandardScaler\n",
    "from sklearn.linear_model import LogisticRegression\n",
    "from sklearn.metrics import accuracy_score, confusion_matrix, classification_report\n",
    "\n",
    "# 데이터 제작\n",
    "X = X_smote\n",
    "y = y_smote\n",
    "\n",
    "scaler = StandardScaler()\n",
    "X = scaler.fit_transform(X)\n",
    "\n",
    "X_train, X_test, y_train, y_test = train_test_split(X, y, test_size=0.2, random_state=42)\n",
    "\n",
    "# 모델 생성, 훈련\n",
    "model = LogisticRegression(multi_class='ovr', solver='lbfgs')  # 다중 분류 (One-vs-Rest)\n",
    "model.fit(X_train, y_train)\n",
    "\n",
    "# 모델 예측, 정확도 평가\n",
    "y_pred = model.predict(X_test)\n",
    "accuracy = accuracy_score(y_test, y_pred)\n",
    "\n",
    "print(f\"테스트 정확도: {accuracy:.2f}\")\n"
   ]
  },
  {
   "cell_type": "code",
   "execution_count": 25,
   "metadata": {},
   "outputs": [
    {
     "data": {
      "image/png": "[encoded data removed]",
      "text/plain": [
       "<Figure size 600x400 with 2 Axes>"
      ]
     },
     "metadata": {},
     "output_type": "display_data"
    },
    {
     "name": "stdout",
     "output_type": "stream",
     "text": [
      "              precision    recall  f1-score   support\n",
      "\n",
      "           0       0.88      0.77      0.82       103\n",
      "           1       0.82      0.91      0.86       117\n",
      "\n",
      "    accuracy                           0.84       220\n",
      "   macro avg       0.85      0.84      0.84       220\n",
      "weighted avg       0.84      0.84      0.84       220\n",
      "\n"
     ]
    }
   ],
   "source": [
    "# 7. Confusion Matrix 만들기\n",
    "\n",
    "from sklearn.metrics import confusion_matrix, classification_report\n",
    "import seaborn as sns\n",
    "import matplotlib.pyplot as plt\n",
    "\n",
    "# 예측값과 실제값 비교\n",
    "cm = confusion_matrix(y_test, y_pred)\n",
    "\n",
    "# Confusion Matrix 시각화\n",
    "plt.figure(figsize=(6, 4))\n",
    "sns.heatmap(cm, annot=True, fmt='d', cmap='Blues', xticklabels=[\"Pred 0\", \"Pred 1\"], yticklabels=[\"Actual 0\", \"Actual 1\"])\n",
    "plt.xlabel(\"Predicted Label\")\n",
    "plt.ylabel(\"Actual Label\")\n",
    "plt.title(\"Confusion Matrix\")\n",
    "plt.show()\n",
    "\n",
    "# 정밀도, 재현율, F1-score 출력\n",
    "print(classification_report(y_test, y_pred))"
   ]
  }
 ],
 "metadata": {
  "kernelspec": {
   "display_name": "2025AI",
   "language": "python",
   "name": "python3"
  },
  "language_info": {
   "codemirror_mode": {
    "name": "ipython",
    "version": 3
   },
   "file_extension": ".py",
   "mimetype": "text/x-python",
   "name": "python",
   "nbconvert_exporter": "python",
   "pygments_lexer": "ipython3",
   "version": "3.12.8"
  }
 },
 "nbformat": 4,
 "nbformat_minor": 2
}
